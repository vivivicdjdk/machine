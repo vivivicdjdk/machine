{
  "nbformat": 4,
  "nbformat_minor": 0,
  "metadata": {
    "colab": {
      "provenance": [],
      "collapsed_sections": [
        "xg4Jy_N1LqrI",
        "AUrEfP3cLwel"
      ],
      "authorship_tag": "ABX9TyOUXKG48gFPLCCtQoU8fMlk",
      "include_colab_link": true
    },
    "kernelspec": {
      "name": "python3",
      "display_name": "Python 3"
    },
    "language_info": {
      "name": "python"
    }
  },
  "cells": [
    {
      "cell_type": "markdown",
      "metadata": {
        "id": "view-in-github",
        "colab_type": "text"
      },
      "source": [
        "<a href=\"https://colab.research.google.com/github/vivivicdjdk/machine/blob/main/3_3.ipynb\" target=\"_parent\"><img src=\"https://colab.research.google.com/assets/colab-badge.svg\" alt=\"Open In Colab\"/></a>"
      ]
    },
    {
      "cell_type": "markdown",
      "source": [
        "#특성 공학과 규제"
      ],
      "metadata": {
        "id": "64r47HiijlHi"
      }
    },
    {
      "cell_type": "markdown",
      "source": [
        "##다중 회귀\n",
        "\n",
        "**다중회귀(multiple regression)** 여러개의 특성을 사용한 선형 회귀\n"
      ],
      "metadata": {
        "id": "NM-U_mpDjk3k"
      }
    },
    {
      "cell_type": "markdown",
      "source": [
        "**특성 공학(feature engineering)**\n",
        "기존의 특성을 사용하여 새로운 특성을 뽑아내는 작업\n",
        "* 여러개의 특성을 각각 제곱하여 또 다른 특성을 생성"
      ],
      "metadata": {
        "id": "_TNHF6325tUm"
      }
    },
    {
      "cell_type": "markdown",
      "source": [
        "데이터 준비(**판다스(pandas)** 이용)"
      ],
      "metadata": {
        "id": "nNeQryZJ6N-_"
      }
    },
    {
      "cell_type": "code",
      "execution_count": null,
      "metadata": {
        "colab": {
          "base_uri": "https://localhost:8080/"
        },
        "id": "d3laj1lL5kXu",
        "outputId": "d8d4c11e-2d64-498e-8650-10b07a8549e8"
      },
      "outputs": [
        {
          "output_type": "stream",
          "name": "stdout",
          "text": [
            "[[ 8.4   2.11  1.41]\n",
            " [13.7   3.53  2.  ]\n",
            " [15.    3.82  2.43]\n",
            " [16.2   4.59  2.63]\n",
            " [17.4   4.59  2.94]\n",
            " [18.    5.22  3.32]\n",
            " [18.7   5.2   3.12]\n",
            " [19.    5.64  3.05]\n",
            " [19.6   5.14  3.04]\n",
            " [20.    5.08  2.77]\n",
            " [21.    5.69  3.56]\n",
            " [21.    5.92  3.31]\n",
            " [21.    5.69  3.67]\n",
            " [21.3   6.38  3.53]\n",
            " [22.    6.11  3.41]\n",
            " [22.    5.64  3.52]\n",
            " [22.    6.11  3.52]\n",
            " [22.    5.88  3.52]\n",
            " [22.    5.52  4.  ]\n",
            " [22.5   5.86  3.62]\n",
            " [22.5   6.79  3.62]\n",
            " [22.7   5.95  3.63]\n",
            " [23.    5.22  3.63]\n",
            " [23.5   6.28  3.72]\n",
            " [24.    7.29  3.72]\n",
            " [24.    6.38  3.82]\n",
            " [24.6   6.73  4.17]\n",
            " [25.    6.44  3.68]\n",
            " [25.6   6.56  4.24]\n",
            " [26.5   7.17  4.14]\n",
            " [27.3   8.32  5.14]\n",
            " [27.5   7.17  4.34]\n",
            " [27.5   7.05  4.34]\n",
            " [27.5   7.28  4.57]\n",
            " [28.    7.82  4.2 ]\n",
            " [28.7   7.59  4.64]\n",
            " [30.    7.62  4.77]\n",
            " [32.8  10.03  6.02]\n",
            " [34.5  10.26  6.39]\n",
            " [35.   11.49  7.8 ]\n",
            " [36.5  10.88  6.86]\n",
            " [36.   10.61  6.74]\n",
            " [37.   10.84  6.26]\n",
            " [37.   10.57  6.37]\n",
            " [39.   11.14  7.49]\n",
            " [39.   11.14  6.  ]\n",
            " [39.   12.43  7.35]\n",
            " [40.   11.93  7.11]\n",
            " [40.   11.73  7.22]\n",
            " [40.   12.38  7.46]\n",
            " [40.   11.14  6.63]\n",
            " [42.   12.8   6.87]\n",
            " [43.   11.93  7.28]\n",
            " [43.   12.51  7.42]\n",
            " [43.5  12.6   8.14]\n",
            " [44.   12.49  7.6 ]]\n"
          ]
        }
      ],
      "source": [
        "import pandas as pd\n",
        "df = pd.read_csv('https://bit.ly/perch_csv_data')\n",
        "perch_full = df.to_numpy()\n",
        "print(perch_full)\n",
        "#길이 높이 두께"
      ]
    },
    {
      "cell_type": "markdown",
      "source": [
        "타깃 데이터 준비"
      ],
      "metadata": {
        "id": "CTjh5GYS6SKS"
      }
    },
    {
      "cell_type": "code",
      "source": [
        "import numpy as np\n",
        "\n",
        "perch_weight = np.array(\n",
        "    [5.9, 32.0, 40.0, 51.5, 70.0, 100.0, 78.0, 80.0, 85.0, 85.0,\n",
        "     110.0, 115.0, 125.0, 130.0, 120.0, 120.0, 130.0, 135.0, 110.0,\n",
        "     130.0, 150.0, 145.0, 150.0, 170.0, 225.0, 145.0, 188.0, 180.0,\n",
        "     197.0, 218.0, 300.0, 260.0, 265.0, 250.0, 250.0, 300.0, 320.0,\n",
        "     514.0, 556.0, 840.0, 685.0, 700.0, 700.0, 690.0, 900.0, 650.0,\n",
        "     820.0, 850.0, 900.0, 1015.0, 820.0, 1100.0, 1000.0, 1100.0,\n",
        "     1000.0, 1000.0]\n",
        "     )"
      ],
      "metadata": {
        "id": "Um8YLEaN6Vh1"
      },
      "execution_count": null,
      "outputs": []
    },
    {
      "cell_type": "markdown",
      "source": [
        "훈련 세트와 테스트 세트로 나누기"
      ],
      "metadata": {
        "id": "ce4KzLDKlVTY"
      }
    },
    {
      "cell_type": "code",
      "source": [
        "from sklearn.model_selection import train_test_split\n",
        "train_input, test_input, train_target, test_target = train_test_split(perch_full, perch_weight, random_state=42)"
      ],
      "metadata": {
        "id": "j8N3NvAV6YST"
      },
      "execution_count": null,
      "outputs": []
    },
    {
      "cell_type": "markdown",
      "source": [
        "새로운 특성 추가\n",
        "##사이킷런 변환기(transformer)\n",
        "모델 클래스에 fit(), score(), predict() 메서드가  있는 것 처럼\n",
        "\n",
        "변환기 클래스는 fit(), transform() 메서드 제공"
      ],
      "metadata": {
        "id": "1VHq5hhg6dX4"
      }
    },
    {
      "cell_type": "code",
      "source": [
        "from sklearn.preprocessing import PolynomialFeatures"
      ],
      "metadata": {
        "id": "Ivfjt_Ij6sQb"
      },
      "execution_count": null,
      "outputs": []
    },
    {
      "cell_type": "markdown",
      "source": [
        "2개의 특성 2와 3으로 이루어진 샘플에 대한 새로운 특성 조합을 생성"
      ],
      "metadata": {
        "id": "0lWkDgvP6ryw"
      }
    },
    {
      "cell_type": "code",
      "source": [
        "poly = PolynomialFeatures()\n",
        "poly.fit([[2, 3]])  # 훈련\n",
        "print(poly.transform([[2, 3]])) #변환"
      ],
      "metadata": {
        "colab": {
          "base_uri": "https://localhost:8080/"
        },
        "id": "j4XpW9vj6vmE",
        "outputId": "bd543c1f-9ffe-4b9d-b4b2-1959d963e476"
      },
      "execution_count": null,
      "outputs": [
        {
          "output_type": "stream",
          "name": "stdout",
          "text": [
            "[[1. 2. 3. 4. 6. 9.]]\n"
          ]
        }
      ]
    },
    {
      "cell_type": "markdown",
      "source": [
        "fit() 메서드에서 훈련을 하여 새롭게 만들 특성 조합을 찾음\n",
        "\n",
        "transform() 메서드는 실제 데이터로 변환\n",
        "\n",
        "1은 절편, 2와 3은 입력값, 4와 9는 각 입력값들의 제곱, 6은 각 입력값들의 곱 = (1,2,3,2^2,2*3,3^2)\n",
        "\n",
        "여기서 1은 왜 추가되었을까?\n",
        "\n",
        "y = a * x1 + b * x2 + c * 1\n",
        "\n",
        "위 선형방정식에서 (a, b)는 계수\n",
        "\n",
        "c는 절편이며 항상 값이 1인 특성과 곱해지는 계수라고 볼 수 있음\n",
        "\n",
        "즉, 특성은 (a, b, 1)\n",
        "\n",
        "사이킷런의 선형 모델은 자동으로 전편을 추가하므로 특성을 이렇게 만들 필요가 없음\n",
        "\n",
        "절편을 제거하지 않아도 사이킷런이 자동으로 무시하지만 (include_nias = False)를 지정하여 특성에서 절편 항을 제거"
      ],
      "metadata": {
        "id": "wO-hO9NX7KWb"
      }
    },
    {
      "cell_type": "code",
      "source": [
        "poly = PolynomialFeatures(include_bias=False)\n",
        "poly.fit([[2, 3]])"
      ],
      "metadata": {
        "colab": {
          "base_uri": "https://localhost:8080/"
        },
        "id": "9HzwjW_Q7J0b",
        "outputId": "94cafc0a-c296-4089-ad98-3dd0831632b9"
      },
      "execution_count": null,
      "outputs": [
        {
          "output_type": "stream",
          "name": "stdout",
          "text": [
            "[[2. 3. 4. 6. 9.]]\n"
          ]
        }
      ]
    },
    {
      "cell_type": "code",
      "source": [
        "poly = PolynomialFeatures(include_bias=False)\n",
        "\n",
        "#poly = PolynomialFeatures(degree = 5, include_bias=False) 특성 더 추가하는 법\n",
        "\n",
        "#poly.fit(train_input)\n",
        "#train_poly = poly.transform(train_input)\n",
        "train_poly = poly.fit_transform(train_input) # fit()과 transfrom() 하나로 붙인 메소드\n",
        "print(train_input.shape)\n",
        "print(train_poly.shape)"
      ],
      "metadata": {
        "colab": {
          "base_uri": "https://localhost:8080/"
        },
        "id": "m1suVJaZ7XFa",
        "outputId": "17f2980b-a087-4880-aa8a-7529d7999446"
      },
      "execution_count": null,
      "outputs": [
        {
          "output_type": "stream",
          "name": "stdout",
          "text": [
            "(42, 3)\n",
            "(42, 9)\n"
          ]
        }
      ]
    },
    {
      "cell_type": "markdown",
      "source": [
        "특성이 각각 어떤 입력의 조합으로 만들어졌는지 확인"
      ],
      "metadata": {
        "id": "snMfK9nH7qUT"
      }
    },
    {
      "cell_type": "code",
      "source": [
        "poly.get_feature_names_out()"
      ],
      "metadata": {
        "colab": {
          "base_uri": "https://localhost:8080/"
        },
        "id": "6e9RHqkE7olY",
        "outputId": "6c3d5857-c2bf-43a8-fba0-5378d50e6dc7"
      },
      "execution_count": null,
      "outputs": [
        {
          "output_type": "execute_result",
          "data": {
            "text/plain": [
              "array(['x0', 'x1', 'x2', 'x0^2', 'x0 x1', 'x0 x2', 'x1^2', 'x1 x2',\n",
              "       'x2^2'], dtype=object)"
            ]
          },
          "metadata": {},
          "execution_count": 8
        }
      ]
    },
    {
      "cell_type": "markdown",
      "source": [
        "'x0'은 첫 번째 특성, 'x0^2'는 첫 번째 특성의 제곱, 'x0 x1'은 첫 번째 특성과 두 번째 특성의 곱"
      ],
      "metadata": {
        "id": "gqGer-k3rBqM"
      }
    },
    {
      "cell_type": "markdown",
      "source": [
        "테스트 세트 변환"
      ],
      "metadata": {
        "id": "i9kdRksnrQ3E"
      }
    },
    {
      "cell_type": "code",
      "source": [
        "test_poly = poly.transform(test_input)"
      ],
      "metadata": {
        "id": "OukFFqrf7vVA"
      },
      "execution_count": null,
      "outputs": []
    },
    {
      "cell_type": "markdown",
      "source": [
        "##다중 회귀 모델 훈련하기"
      ],
      "metadata": {
        "id": "-H5wqg-prTU7"
      }
    },
    {
      "cell_type": "code",
      "source": [
        "from sklearn.linear_model import LinearRegression\n",
        "\n",
        "lr = LinearRegression()\n",
        "lr.fit(train_poly, train_target)\n",
        "print(lr.score(train_poly, train_target))\n",
        "print(lr.score(test_poly, test_target))"
      ],
      "metadata": {
        "colab": {
          "base_uri": "https://localhost:8080/"
        },
        "id": "9jIWj4fc7z-Q",
        "outputId": "e5692d55-7aa8-4d93-82d9-acf5835943dd"
      },
      "execution_count": null,
      "outputs": [
        {
          "output_type": "stream",
          "name": "stdout",
          "text": [
            "0.9903183436982125\n",
            "0.9714559911594111\n"
          ]
        }
      ]
    },
    {
      "cell_type": "markdown",
      "source": [
        "5제곱까지 특성 생성"
      ],
      "metadata": {
        "id": "lOIPMyf3scfm"
      }
    },
    {
      "cell_type": "code",
      "source": [
        "poly = PolynomialFeatures(degree=5, include_bias=False)\n",
        "\n",
        "poly.fit(train_input)\n",
        "train_poly = poly.transform(train_input)\n",
        "test_poly = poly.transform(test_input)\n",
        "\n",
        "print(train_poly.shape) # 만들어진 특성 개수 55개\n",
        "\n",
        "lr.fit(train_poly, train_target)\n",
        "print(lr.score(train_poly, train_target))\n",
        "\n",
        "print(lr.score(test_poly, test_target))"
      ],
      "metadata": {
        "colab": {
          "base_uri": "https://localhost:8080/"
        },
        "id": "eDdjEwKGIspU",
        "outputId": "5dc1e018-fc06-4ceb-a9c1-687aab7bba8e"
      },
      "execution_count": null,
      "outputs": [
        {
          "output_type": "stream",
          "name": "stdout",
          "text": [
            "(42, 55)\n",
            "0.9999999999996433\n",
            "-144.40579436844948\n"
          ]
        }
      ]
    },
    {
      "cell_type": "markdown",
      "source": [
        "과소적합 문제 해결\n",
        "\n",
        "특성이 많아질수록 모델이 복잡해지고 복잡해질수록 과소적합 문제 해결"
      ],
      "metadata": {
        "id": "HRfqHszm72g6"
      }
    },
    {
      "cell_type": "markdown",
      "source": [
        "특성의 개수를 크게 늘리면 선형 모델은 아주 강력해짐\n",
        "훈련세트를 거의 완벽하게 학습 가능\n",
        "그러나 훈련 세트에 과대적합되므로 테스트 세트에는 적합하지 않음"
      ],
      "metadata": {
        "id": "3y2WtcPn-88O"
      }
    },
    {
      "cell_type": "markdown",
      "source": [
        "###기울기와 절편은 어떻게 찾는가?"
      ],
      "metadata": {
        "id": "xg4Jy_N1LqrI"
      }
    },
    {
      "cell_type": "markdown",
      "source": [
        "\n",
        "  1. 임의의 모델 파라미터(기울기와 절편)을 선택\n",
        "  2. 최적의 모델 파라미터를 찾기 위해, 경사하강법(gradient descent method)를 사용\n",
        "    1. 손실 함수(loss function, 또는 비용 함수(cost function))를 계산\n",
        "    2. 손실 함수를 각 모델 파라미터 원소로 미분\n",
        "    3. 임의의 모델 파라미터에서 미분한 손실함수에 0.01(학습률(learning rate))을 곱한 값을 뺀 값을 새로운 모델 파라미터로 설정\n",
        "    4. R^2값이 최소가 될 때까지 반복\n",
        "\n",
        "    ![image.png](data:image/png;base64,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)\n",
        "\n",
        "    \\theta: 학습률\n",
        "\n",
        "    J(w): 목적함수(objective function)\n",
        "\n",
        "    Loss(w): 손실함수(loss function) or 비용함수(cost function) (MSE가 일반적으로 사용됨)"
      ],
      "metadata": {
        "id": "4kFR7KOBG2-S"
      }
    },
    {
      "cell_type": "markdown",
      "source": [
        "###**경사 하강법(gradient descent method)**\n",
        "https://hi-guten-tag.tistory.com/205\n",
        "\n",
        "함수의 기울기(경사)를 구하고 경사가 가장 낮은 방향으로 계속 이동시켜 극값에 이를 때까지 반복"
      ],
      "metadata": {
        "id": "AUrEfP3cLwel"
      }
    },
    {
      "cell_type": "markdown",
      "source": [
        "\n",
        "\n",
        "왜 경사 하강법을 사용할까?\n",
        "\n",
        "일반적으로 인공지능은 손실 함수를 통하여 자신의 파라미터를 검증\n",
        "손실 함수는 인공지능의 파라미터를 통하여 나온 예측 값과 실제 값의 차이라고 볼 수 있으며,\n",
        "\n",
        "특정 파라미터를 통하여 나온 손실 함수 값이 가장 낮은 곳이 바로 최적의 파라미터라고 할 수 있음"
      ],
      "metadata": {
        "id": "6S63HpxkJ-wt"
      }
    },
    {
      "cell_type": "markdown",
      "source": [
        "그냥 손실함수를 미분하여 최소, 최대 값을 찾으면 되지 않을까?\n",
        "\n",
        "\n",
        "미분을 이용하지 않고 경사 하강법을 이용하여 최소의 근삿값을 찾는 이유가 있음\n",
        "\n",
        "실제 마주치는 함수들은 간단한 함수가 아니라 복잡하고, 비선형적인 함수가 대부분\n",
        "\n",
        "따라서 미분을 통하여 그 값을 계산하기 어려운 경우가 많음\n",
        "\n",
        "또한 미분을 구현하는 과정보다 경사 하강법을 구현하여 최솟값을 찾는 것이 실질적으로 더 효율적\n",
        "\n",
        "따라서 함수를 미분하는 대신 경사 하강법을 이용하여 함수의 최소, 최댓값을 찾음"
      ],
      "metadata": {
        "id": "10EXhhYmKlpm"
      }
    },
    {
      "cell_type": "markdown",
      "source": [
        "##과대적합을 해결해보자\n",
        "\n",
        "**규제**\n",
        "\n",
        "머신러닝 모델이 훈련 세트를 너무 과도하게 학습하지 않게 하는 것\n",
        "\n",
        "모델이 훈련세트에 과대적합되지 않도록 함\n",
        "\n",
        "선형 회귀 모델의 경우 특성에 곱해지는 계수(또는 기울기)의 크기를 작게 만듬"
      ],
      "metadata": {
        "id": "hK3VJUb6B96g"
      }
    },
    {
      "cell_type": "markdown",
      "source": [
        "규제 전 표준화\n",
        "\n",
        "특성의 스케일이 정규화되지 않으면 여기에 곱해지는 계수 값도 차이가 나게 됨\n",
        "\n",
        "일반적으로 선형 회귀 모델에 규제를 적용할 때 계수 값의 크기가 서로 많이 다르면 공정하게 제어되지 않을 것임\n",
        "\n",
        "따라서 규제를 하기 전에 정규화를 해야함\n",
        "\n",
        "2장에서는 평균과 표준편차를 직접 구해 특성을 표준점수로 바꿈"
      ],
      "metadata": {
        "id": "sHufGsL8Ccpt"
      }
    },
    {
      "cell_type": "code",
      "source": [
        "maen = np.mean(train_input, axis=0) # 평균\n",
        "std = np.std(train_input, axis=0) # 표준편차\n",
        "\n",
        "train_scaled = (train_input - mean) / std # 표준점수로 변환"
      ],
      "metadata": {
        "id": "f5aBrYB1upcb"
      },
      "execution_count": null,
      "outputs": []
    },
    {
      "cell_type": "markdown",
      "source": [
        "사이킷런에서 제공하는 StandardScaler 클래스를 사용"
      ],
      "metadata": {
        "id": "FKTuRLT8u7Nf"
      }
    },
    {
      "cell_type": "code",
      "source": [
        "from sklearn.preprocessing import StandardScaler\n",
        "\n",
        "ss = StandardScaler()\n",
        "ss.fit(train_poly)\n",
        "\n",
        "train_scaled = ss.transform(train_poly)\n",
        "test_scaled = ss.transform(test_poly)"
      ],
      "metadata": {
        "id": "0Wa8q-5mCqsg"
      },
      "execution_count": null,
      "outputs": []
    },
    {
      "cell_type": "markdown",
      "source": [
        "**훈련 세트로 학습한 변환기를 사용하여 테스트 세트를 변환해야함**"
      ],
      "metadata": {
        "id": "7fmIG3N8Cu5l"
      }
    },
    {
      "cell_type": "markdown",
      "source": [
        "###릿지 회귀"
      ],
      "metadata": {
        "id": "CeE6pUYNGZYH"
      }
    },
    {
      "cell_type": "markdown",
      "source": [
        "\n",
        "* 계수를 제곱한 값을 기준으로 규제를 적용\n",
        "* 조금 더 선호됨\n",
        "* 확률적 평균 경사 하강법(ㄴtochastic Average Gradiant Descent, SAGD) 사용\n",
        "  * 훈련 데이터의 일부 미니배치만을 사용하여 모델 파라미터를 업데이트하는 방법\n",
        "    * 배치(batch)는 모든 데이터를 의미\n",
        "    * 미니배치(mini-batch)는 전체 훈련 데이터 중 일정 크기로 분할된 데이터들을 의미\n",
        "  * 미니배치 경사 하강법과는 다르게 미니배치에서 계산된 기울기를 모두 저장하고 업데이트를 조금씩 적용\n",
        "  * 모든 미니배치에서 계산된 기울기의 평균을 사용하여 업데이트\n",
        "  * 즉, 한 에포크마다 업데이트가 적용된\n",
        "    * 에포크(epoch)는 전체 훈련 데이터셋을 한 번 순회하는 것을 의미\n",
        "  * 주의: 확률적 경사 하강법(Stochastic Gradiant Descent, SGD)과는 다름\n",
        "    * 미니배치가 아닌 하나의 훈련 데이터를 사용함\n",
        "  * 주의: 미니배치 경사 하강법(Mini-Batch Gradiant Descent)과는 다름\n",
        "    * 전체 훈련 데이터셋을 작은 미니배치로 나누어 사용\n",
        "    * 각 미니배치에 대한 기울기를 계산하고, 해당 미니배치에 대해 모델 파라미터를 업데이트\n",
        "    * 업데이트가 미니배치마다 이루어지므로 업데이트 횟수는 전체 데이터셋을 나눈 미니배치의 수에 따라 결정\n",
        "  * 특성과 샘플의 수가 많을 때 좋음\n"
      ],
      "metadata": {
        "id": "E_QL9BKVDfTo"
      }
    },
    {
      "cell_type": "code",
      "source": [
        "from sklearn.linear_model import Ridge\n",
        "\n",
        "ridge = Ridge()\n",
        "ridge.fit(train_scaled, train_target)\n",
        "print(ridge.score(train_scaled, train_target))\n",
        "print(ridge.score(test_scaled, test_target))"
      ],
      "metadata": {
        "colab": {
          "base_uri": "https://localhost:8080/"
        },
        "id": "HAUr2_cBE9Xi",
        "outputId": "e9a0d8f1-13c5-4314-ee74-e8d45a9af005"
      },
      "execution_count": null,
      "outputs": [
        {
          "output_type": "stream",
          "name": "stdout",
          "text": [
            "0.9896101671037343\n",
            "0.9790693977615387\n"
          ]
        }
      ]
    },
    {
      "cell_type": "markdown",
      "source": [
        "**규제 양 조절**\n",
        "\n",
        "alpha 매개변수로 규제의 강도 조절\n",
        "\n",
        "* alpha값이 크면 규제 강도가 세짐 -> 계수 값을 더 줄이고 조금 더 과소적합되도록 유도\n",
        "* alpha값이 작으면 규제 강도가 약해짐 -> 계수값을 덜 줄이고 조금 더 과대적합되도록 유도\n",
        "* alpha값은 모델이 학습하는 값이 아니라 사람이 사전에 지정해야하는 값\n",
        "  * 하이퍼파라미터(매개변수, 파라미터)\n",
        "\n",
        "적절한 alpha값 찾기\n",
        "* alpha값에 대한 R^2(결정계수, 3-1참조)값의 그래프 그려보기"
      ],
      "metadata": {
        "id": "2dwE6Fg0TepU"
      }
    },
    {
      "cell_type": "code",
      "source": [
        "import matplotlib.pyplot as plt\n",
        "\n",
        "train_score = []\n",
        "test_score = []\n",
        "\n",
        "alpha_list = [0.001, 0.01, 0.1, 1, 10, 100]\n",
        "for alpha in alpha_list:\n",
        "    # 릿지 모델을 만듭니다\n",
        "    ridge = Ridge(alpha=alpha)\n",
        "    # 릿지 모델을 훈련합니다\n",
        "    ridge.fit(train_scaled, train_target)\n",
        "    # 훈련 점수와 테스트 점수를 저장합니다\n",
        "    train_score.append(ridge.score(train_scaled, train_target))\n",
        "    test_score.append(ridge.score(test_scaled, test_target))\n",
        "\n",
        "plt.plot(np.log10(alpha_list), train_score) # 로그스케일\n",
        "plt.plot(np.log10(alpha_list), test_score)  # alpha값을 0.001부터 10배씩 늘렸기 때문에 list에 있는 6개의 값을 동일한 간격으로 나타내기 위해\n",
        "plt.xlabel('alpha')                         # 로그함수로 바꾸어 지수로 표현\n",
        "plt.ylabel('R^2')\n",
        "plt.show()"
      ],
      "metadata": {
        "colab": {
          "base_uri": "https://localhost:8080/",
          "height": 449
        },
        "id": "LCDpeJ66FXDX",
        "outputId": "83e1975c-e4dc-44b3-a173-89959e9ebf71"
      },
      "execution_count": null,
      "outputs": [
        {
          "output_type": "display_data",
          "data": {
            "text/plain": [
              "<Figure size 640x480 with 1 Axes>"
            ],
            "image/png": "[encoded data removed]"
          },
          "metadata": {}
        }
      ]
    },
    {
      "cell_type": "markdown",
      "source": [
        "위는 훈련 세트 그래프, 아래는 테스트 세트 그래프\n",
        "\n",
        "적절한 alpha값은 -1, 즉 10^-1=0.1\n",
        "\n",
        "alpha값을 0.1로 하여 최종 모델 훈련"
      ],
      "metadata": {
        "id": "3Z300NnFWkCV"
      }
    },
    {
      "cell_type": "code",
      "source": [
        "ridge = Ridge(alpha=0.1)\n",
        "ridge.fit(train_scaled, train_target)\n",
        "\n",
        "print(ridge.score(train_scaled, train_target))\n",
        "print(ridge.score(test_scaled, test_target))"
      ],
      "metadata": {
        "colab": {
          "base_uri": "https://localhost:8080/"
        },
        "id": "Vd69x-9RGKdm",
        "outputId": "29341302-d4f1-45c3-8938-c8f3bcae111b"
      },
      "execution_count": null,
      "outputs": [
        {
          "output_type": "stream",
          "name": "stdout",
          "text": [
            "0.9903815817570367\n",
            "0.9827976465386928\n"
          ]
        }
      ]
    },
    {
      "cell_type": "markdown",
      "source": [
        "##라쏘 회귀"
      ],
      "metadata": {
        "id": "RDMbVBqIGPc5"
      }
    },
    {
      "cell_type": "markdown",
      "source": [
        "Ridge 클래스를 Lasso 클래스로 바꿔서 훈련"
      ],
      "metadata": {
        "id": "cNQgnB-lW5xu"
      }
    },
    {
      "cell_type": "code",
      "source": [
        "from sklearn.linear_model import Lasso\n",
        "\n",
        "lasso = Lasso()\n",
        "lasso.fit(train_scaled, train_target)\n",
        "print(lasso.score(train_scaled, train_target))\n",
        "print(lasso.score(test_scaled, test_target))"
      ],
      "metadata": {
        "colab": {
          "base_uri": "https://localhost:8080/"
        },
        "id": "afc5gHgWGSco",
        "outputId": "cdb13aa8-3f6b-467c-e747-b578d9d298c1"
      },
      "execution_count": null,
      "outputs": [
        {
          "output_type": "stream",
          "name": "stdout",
          "text": [
            "0.989789897208096\n",
            "0.9800593698421883\n"
          ]
        }
      ]
    },
    {
      "cell_type": "code",
      "source": [
        "train_score = []\n",
        "test_score = []\n",
        "\n",
        "alpha_list = [0.001, 0.01, 0.1, 1, 10, 100]\n",
        "for alpha in alpha_list:\n",
        "    # 라쏘 모델을 만듭니다\n",
        "    lasso = Lasso(alpha=alpha, max_iter=10000) #max_iter=10000)반복횟수\n",
        "    # 라쏘 모델을 훈련합니다\n",
        "    lasso.fit(train_scaled, train_target)\n",
        "    # 훈련 점수와 테스트 점수를 저장합니다\n",
        "    train_score.append(lasso.score(train_scaled, train_target))\n",
        "    test_score.append(lasso.score(test_scaled, test_target))"
      ],
      "metadata": {
        "colab": {
          "base_uri": "https://localhost:8080/"
        },
        "id": "raOYd3_8GZ6w",
        "outputId": "9ef96252-e073-47ad-c250-4016022bfb42"
      },
      "execution_count": null,
      "outputs": [
        {
          "output_type": "stream",
          "name": "stderr",
          "text": [
            "/usr/local/lib/python3.10/dist-packages/sklearn/linear_model/_coordinate_descent.py:631: ConvergenceWarning: Objective did not converge. You might want to increase the number of iterations, check the scale of the features or consider increasing regularisation. Duality gap: 1.878e+04, tolerance: 5.183e+02\n",
            "  model = cd_fast.enet_coordinate_descent(\n",
            "/usr/local/lib/python3.10/dist-packages/sklearn/linear_model/_coordinate_descent.py:631: ConvergenceWarning: Objective did not converge. You might want to increase the number of iterations, check the scale of the features or consider increasing regularisation. Duality gap: 1.297e+04, tolerance: 5.183e+02\n",
            "  model = cd_fast.enet_coordinate_descent(\n"
          ]
        }
      ]
    },
    {
      "cell_type": "code",
      "source": [
        "plt.plot(np.log10(alpha_list), train_score)\n",
        "plt.plot(np.log10(alpha_list), test_score)\n",
        "plt.xlabel('alpha')\n",
        "plt.ylabel('R^2')\n",
        "plt.show()"
      ],
      "metadata": {
        "colab": {
          "base_uri": "https://localhost:8080/",
          "height": 449
        },
        "id": "fY6a8LzLGkWx",
        "outputId": "a22d2b47-a42b-4c2c-d539-76a3d1fb590d"
      },
      "execution_count": null,
      "outputs": [
        {
          "output_type": "display_data",
          "data": {
            "text/plain": [
              "<Figure size 640x480 with 1 Axes>"
            ],
            "image/png": "[encoded data removed]"
          },
          "metadata": {}
        }
      ]
    },
    {
      "cell_type": "markdown",
      "source": [
        "alpha값은 1. 즉 10^1=10\n",
        "alpha값은 10일때 가장 적절"
      ],
      "metadata": {
        "id": "VmPqs7loXboZ"
      }
    },
    {
      "cell_type": "code",
      "source": [
        "lasso = Lasso(alpha=10)\n",
        "lasso.fit(train_scaled, train_target)\n",
        "\n",
        "print(lasso.score(train_scaled, train_target))\n",
        "print(lasso.score(test_scaled, test_target))"
      ],
      "metadata": {
        "colab": {
          "base_uri": "https://localhost:8080/"
        },
        "id": "tUKly4bUGteu",
        "outputId": "b06a2fe9-bd9b-42cd-b989-8ed06ee07dfd"
      },
      "execution_count": null,
      "outputs": [
        {
          "output_type": "stream",
          "name": "stdout",
          "text": [
            "0.9888067471131867\n",
            "0.9824470598706695\n"
          ]
        }
      ]
    },
    {
      "cell_type": "markdown",
      "source": [
        "라쏘 모델은 계수 값을 아예 0으로 만들 수 있음\n",
        "\n",
        "라쏘 모델의 계수는 **coef_속성**에 저장\n",
        "\n",
        "**np.sum()**함수는 배열을 모두 더한 값을 반환\n",
        "\n",
        "넘파이 배열에 비교 연산자를 사용했을 때 각 원소는 True(1) 또는 False(0)\n",
        "\n",
        "1과 0으로 인식하여 덧셈(원소 개수를 헤아리는 효과)"
      ],
      "metadata": {
        "id": "jaWxZwS_XmE2"
      }
    },
    {
      "cell_type": "code",
      "execution_count": null,
      "metadata": {
        "colab": {
          "base_uri": "https://localhost:8080/"
        },
        "id": "z_bQc3s8Uoai",
        "outputId": "06b9967e-c0f9-4e20-8a26-d412726879a5"
      },
      "outputs": [
        {
          "output_type": "stream",
          "name": "stdout",
          "text": [
            "40\n"
          ]
        }
      ],
      "source": [
        "print(np.sum(lasso.coef_ == 0))"
      ]
    }
  ]
}