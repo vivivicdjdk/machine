{
  "nbformat": 4,
  "nbformat_minor": 0,
  "metadata": {
    "colab": {
      "provenance": [],
      "gpuType": "T4",
      "authorship_tag": "ABX9TyMukx3QmnncN5U/MuZ123ou",
      "include_colab_link": true
    },
    "kernelspec": {
      "name": "python3",
      "display_name": "Python 3"
    },
    "language_info": {
      "name": "python"
    },
    "accelerator": "GPU"
  },
  "cells": [
    {
      "cell_type": "markdown",
      "metadata": {
        "id": "view-in-github",
        "colab_type": "text"
      },
      "source": [
        "<a href=\"https://colab.research.google.com/github/vivivicdjdk/machine/blob/main/9_2.ipynb\" target=\"_parent\"><img src=\"https://colab.research.google.com/assets/colab-badge.svg\" alt=\"Open In Colab\"/></a>"
      ]
    },
    {
      "cell_type": "markdown",
      "source": [
        "# 순환 신경망으로 IMDB 리뷰 분류하기"
      ],
      "metadata": {
        "id": "2TO8mIJdkGNM"
      }
    },
    {
      "cell_type": "markdown",
      "source": [
        "**IMDB 리뷰 데이터셋**\n",
        "\n",
        "유명한 영화 데이터베이스인 imdb.com에서 수집한 리뷰를 감상평에 따라 긍정과 부정으로 분류해 놓은 데이터셋"
      ],
      "metadata": {
        "id": "mL72xhhVkS9H"
      }
    },
    {
      "cell_type": "markdown",
      "source": [
        "**자연어 처리** 컴퓨터를 사용해 인간의 언어를 처리하는 분야\n",
        "\n",
        "음성 인식, 기계 번역, 감성 분석 등\n",
        "\n",
        "iMDB 리뷰를 감상평에 따라 분류하는 작업은 감성 분석에 해당\n",
        "\n",
        "**말뭉치** 자연어 처리 분야에서 부르는 훈련 데이터"
      ],
      "metadata": {
        "id": "nZVS3begklM6"
      }
    },
    {
      "cell_type": "markdown",
      "source": [
        "텍스트 자체를 신경망에 전달하는 것은 아님\n",
        "\n",
        "합성곱 신경망에서 이미지를 다룰 때는 이미지가 정수 픽셀값으로 이루어져 있어 특별한 변환을 하지 않았지만,\n",
        "\n",
        "텍스트 데이터의 경우 단어를 전달하는 일반적인 방법은 데이터에 등장하는 단어마다 고유한 전수를 부여해 숫자 데이터를 바꿈\n",
        "\n",
        "예를 들어, He를 10으로 매핑\n",
        "\n",
        "일반적으로 영어 문장은 모두 소문자로 바꾸고 구둣점을 삭제한 다음 공백을 기준으로 분리\n",
        "\n",
        "이렇게 분리된 단어를 **토큰**이라고 부름"
      ],
      "metadata": {
        "id": "kS-_zXdgk5nF"
      }
    },
    {
      "cell_type": "markdown",
      "source": [
        "텐서플로에는 이미 정수로 바꾼 데이터가 포"
      ],
      "metadata": {
        "id": "ey7hEYLol1AL"
      }
    },
    {
      "cell_type": "code",
      "execution_count": 2,
      "metadata": {
        "id": "NcCwO203kENj"
      },
      "outputs": [],
      "source": [
        "from tensorflow.keras.datasets import imdb\n",
        "\n",
        "(train_input, train_target), (test_input, test_target) = imdb.load_data(\n",
        "    num_words=300)"
      ]
    },
    {
      "cell_type": "code",
      "source": [
        "print(train_input.shape, test_input.shape)"
      ],
      "metadata": {
        "colab": {
          "base_uri": "https://localhost:8080/"
        },
        "id": "zURZpFZYmJ8K",
        "outputId": "6298a674-1132-485d-c157-6d13cc5eec7d"
      },
      "execution_count": 3,
      "outputs": [
        {
          "output_type": "stream",
          "name": "stdout",
          "text": [
            "(25000,) (25000,)\n"
          ]
        }
      ]
    },
    {
      "cell_type": "markdown",
      "source": [
        "1차원 배열임\n",
        "\n",
        "IMDB 리뷰 텍스트는 길이가 제각각이기 때문에\n",
        "\n",
        "고정 크기의 2차원 배열에 담기 보다는 리뷰마다 별도의 파이썬 리스트로 담아야 메모리를 효율적으로 사용할 수 있음\n",
        "\n",
        "즉, 이 데이터는 개별 리뷰를 담은 파이썬 리스트 객체로 이루어진 넘파이 배열"
      ],
      "metadata": {
        "id": "0RUCrCq-mMj2"
      }
    },
    {
      "cell_type": "code",
      "source": [
        "# 첫 번째 리뷰의 길이는 218개의 토큰으로 구성\n",
        "print(len(train_input[0]))"
      ],
      "metadata": {
        "colab": {
          "base_uri": "https://localhost:8080/"
        },
        "id": "mgrJtmE5mlhP",
        "outputId": "b7ff4fbd-93b2-4bf2-8980-65ad2702a35b"
      },
      "execution_count": 4,
      "outputs": [
        {
          "output_type": "stream",
          "name": "stdout",
          "text": [
            "218\n"
          ]
        }
      ]
    },
    {
      "cell_type": "code",
      "source": [
        "# 두 번째 리뷰의 길\n",
        "print(len(train_input[1]))"
      ],
      "metadata": {
        "colab": {
          "base_uri": "https://localhost:8080/"
        },
        "id": "rN5GAeZ5mm6T",
        "outputId": "7ed2dd4d-86f4-4766-b330-f8b93b7ad683"
      },
      "execution_count": 5,
      "outputs": [
        {
          "output_type": "stream",
          "name": "stdout",
          "text": [
            "189\n"
          ]
        }
      ]
    },
    {
      "cell_type": "code",
      "source": [
        "#첫 번째 리뷰에 담긴 내용 출력\n",
        "print(train_input[0])"
      ],
      "metadata": {
        "id": "_G21aidDmuzp"
      },
      "execution_count": null,
      "outputs": []
    },
    {
      "cell_type": "code",
      "source": [
        "print(train_target[:20])"
      ],
      "metadata": {
        "colab": {
          "base_uri": "https://localhost:8080/"
        },
        "id": "dehiEz1pm0tG",
        "outputId": "f4bf0c43-6fb8-4004-ec95-12811ee5a24a"
      },
      "execution_count": 6,
      "outputs": [
        {
          "output_type": "stream",
          "name": "stdout",
          "text": [
            "[1 0 0 1 0 0 1 0 1 0 1 0 0 0 0 0 1 1 0 1]\n"
          ]
        }
      ]
    },
    {
      "cell_type": "markdown",
      "source": [
        "해결할 문제는 리뷰가 긍정인지 부정인지 판단하는 것\n",
        "\n",
        "그러면 이진 분류 문제로 볼 수 있으므로 타깃값이 0(부정)과 1(긍정)으로 나누어짐"
      ],
      "metadata": {
        "id": "jlwkDqSwm3jK"
      }
    },
    {
      "cell_type": "code",
      "source": [
        "from sklearn.model_selection import train_test_split\n",
        "\n",
        "train_input, val_input, train_target, val_target = train_test_split(\n",
        "    train_input, train_target, test_size=0.2, random_state=42)"
      ],
      "metadata": {
        "id": "FMC3p_UGnDqF"
      },
      "execution_count": 7,
      "outputs": []
    },
    {
      "cell_type": "markdown",
      "source": [
        "각 리뷰의 길이를 계산해 넘파이 배열에 저장\n",
        "\n",
        "평균 리뷰 길이, 가장 짧은 리뷰 길이, 가장 긴 리뷰 길이"
      ],
      "metadata": {
        "id": "t6TVX2thnLXn"
      }
    },
    {
      "cell_type": "code",
      "source": [
        "import numpy as np\n",
        "\n",
        "lengths = np.array([len(x) for x in train_input])\n",
        "print(np.mean(lengths), np.median(lengths))"
      ],
      "metadata": {
        "colab": {
          "base_uri": "https://localhost:8080/"
        },
        "id": "Q9L8cLpInGZR",
        "outputId": "6a0eb13e-5163-4713-cf4f-5f213bd97aa1"
      },
      "execution_count": 9,
      "outputs": [
        {
          "output_type": "stream",
          "name": "stdout",
          "text": [
            "239.00925 178.0\n"
          ]
        }
      ]
    },
    {
      "cell_type": "code",
      "source": [
        "import matplotlib.pyplot as plt\n",
        "\n",
        "plt.hist(lengths)\n",
        "plt.xlabel('length')\n",
        "plt.ylabel('frequency')\n",
        "plt.show()"
      ],
      "metadata": {
        "colab": {
          "base_uri": "https://localhost:8080/",
          "height": 449
        },
        "id": "3--1H6AVnXS-",
        "outputId": "8d00a1ba-4866-4a4a-b590-f46d04d330a2"
      },
      "execution_count": 10,
      "outputs": [
        {
          "output_type": "display_data",
          "data": {
            "text/plain": [
              "<Figure size 640x480 with 1 Axes>"
            ],
            "image/png": "[encoded data removed]"
          },
          "metadata": {}
        }
      ]
    },
    {
      "cell_type": "markdown",
      "source": [
        "이 리뷰 길이 데이터는 한쪽에 치우친 분포를 보임\n",
        "\n",
        "대부분의 리뷰 길이는 300 미만"
      ],
      "metadata": {
        "id": "mLRj41m2ncuG"
      }
    },
    {
      "cell_type": "markdown",
      "source": [
        "**pad_suquences()** 시퀀스 데이터의 길이를 맞추는 함수\n",
        "\n",
        "기본으로 maxlen보다 긴 시퀀스의 앞부분을 자"
      ],
      "metadata": {
        "id": "W1YN6Z_3nn1b"
      }
    },
    {
      "cell_type": "code",
      "source": [
        "from tensorflow.keras.preprocessing.sequence import pad_sequences\n",
        "\n",
        "train_seq = pad_sequences(train_input, maxlen=100) # train_input의 길이를 100으로 맞춤\n",
        "print(train_seq.shape)"
      ],
      "metadata": {
        "colab": {
          "base_uri": "https://localhost:8080/"
        },
        "id": "oi5l0UC1nmat",
        "outputId": "e8914fe9-91fa-4d8d-9d87-42b8921e7ddd"
      },
      "execution_count": 12,
      "outputs": [
        {
          "output_type": "stream",
          "name": "stdout",
          "text": [
            "(20000, 100)\n"
          ]
        }
      ]
    },
    {
      "cell_type": "code",
      "source": [
        "print(train_seq[0])"
      ],
      "metadata": {
        "colab": {
          "base_uri": "https://localhost:8080/"
        },
        "id": "NyEstwPAn5-m",
        "outputId": "d3f8af9a-765b-4440-9779-9c3c69a5ba45"
      },
      "execution_count": 13,
      "outputs": [
        {
          "output_type": "stream",
          "name": "stdout",
          "text": [
            "[ 10   4  20   9   2   2   2   5  45   6   2   2  33 269   8   2 142   2\n",
            "   5   2  17  73  17 204   5   2  19  55   2   2  92  66 104  14  20  93\n",
            "  76   2 151  33   4  58  12 188   2 151  12 215  69 224 142  73 237   6\n",
            "   2   7   2   2 188   2 103  14  31  10  10   2   7   2   5   2  80  91\n",
            "   2  30   2  34  14  20 151  50  26 131  49   2  84  46  50  37  80  79\n",
            "   6   2  46   7  14  20  10  10   2 158]\n"
          ]
        }
      ]
    },
    {
      "cell_type": "code",
      "source": [
        "print(train_input[0][-10:])"
      ],
      "metadata": {
        "colab": {
          "base_uri": "https://localhost:8080/"
        },
        "id": "Z9bbcEhun7yH",
        "outputId": "dd960bd2-2c47-4df9-da2e-5fb934eb7ac5"
      },
      "execution_count": 14,
      "outputs": [
        {
          "output_type": "stream",
          "name": "stdout",
          "text": [
            "[6, 2, 46, 7, 14, 20, 10, 10, 2, 158]\n"
          ]
        }
      ]
    },
    {
      "cell_type": "code",
      "source": [
        "print(train_seq[5])"
      ],
      "metadata": {
        "colab": {
          "base_uri": "https://localhost:8080/"
        },
        "id": "9xujWD3en8iR",
        "outputId": "bd878ba2-7bf7-4eff-9d25-aa5e00681e39"
      },
      "execution_count": 15,
      "outputs": [
        {
          "output_type": "stream",
          "name": "stdout",
          "text": [
            "[  0   0   0   0   1   2 195  19  49   2   2 190   4   2   2   2 183  10\n",
            "  10  13  82  79   4   2  36  71 269   8   2  25  19  49   7   4   2   2\n",
            "   2   2   2  10  10  48  25  40   2  11   2   2  40   2   2   5   4   2\n",
            "   2  95  14 238  56 129   2  10  10  21   2  94   2   2   2   2  11 190\n",
            "  24   2   2   7  94 205   2  10  10  87   2  34  49   2   7   2   2   2\n",
            "   2   2 290   2  46  48  64  18   4   2]\n"
          ]
        }
      ]
    },
    {
      "cell_type": "code",
      "source": [
        "val_seq = pad_sequences(val_input, maxlen=100)"
      ],
      "metadata": {
        "id": "BacGGqpFoGMF"
      },
      "execution_count": 16,
      "outputs": []
    },
    {
      "cell_type": "markdown",
      "source": [
        "**순환 신경망 만들기**"
      ],
      "metadata": {
        "id": "-AltarZMoGqq"
      }
    },
    {
      "cell_type": "code",
      "source": [
        "from tensorflow import keras\n",
        "\n",
        "model = keras.Sequential()\n",
        "\n",
        "model.add(keras.layers.SimpleRNN(8, input_shape=(100, 300)))\n",
        "model.add(keras.layers.Dense(1, activation='sigmoid'))"
      ],
      "metadata": {
        "id": "33tHJVXwoMTC"
      },
      "execution_count": 17,
      "outputs": []
    },
    {
      "cell_type": "markdown",
      "source": [
        "지금까지 보았던 구성과 매우 비슷\n",
        "\n",
        "SimpleRNN 클래스를 사용\n",
        "\n",
        "* 첫 번째 매개변수는 사용할 뉴런의 개수를 지정\n",
        "\n",
        "* SimpleRNN 클래스의 활성화 함수 기본값은 'tanh'로 하이퍼볼릭 탄젠트 함수를 사용"
      ],
      "metadata": {
        "id": "mnlIz5EWoNEZ"
      }
    },
    {
      "cell_type": "markdown",
      "source": [
        "keras.utils 패키지 아래에 있는 **to_categorical()** 함수에서는 정수 배열을 입력하면 자동으로 원-핫 인코딩된 배열을 반환"
      ],
      "metadata": {
        "id": "g7ch8AQ-op8w"
      }
    },
    {
      "cell_type": "code",
      "source": [
        "train_oh = keras.utils.to_categorical(train_seq)"
      ],
      "metadata": {
        "id": "HiafvObCooHn"
      },
      "execution_count": 18,
      "outputs": []
    },
    {
      "cell_type": "code",
      "source": [
        "print(train_oh.shape)"
      ],
      "metadata": {
        "colab": {
          "base_uri": "https://localhost:8080/"
        },
        "id": "K-PUHokoo1xJ",
        "outputId": "594b0636-d614-4304-efe6-0cb46f2542c1"
      },
      "execution_count": 19,
      "outputs": [
        {
          "output_type": "stream",
          "name": "stdout",
          "text": [
            "(20000, 100, 300)\n"
          ]
        }
      ]
    },
    {
      "cell_type": "markdown",
      "source": [
        "첫 번째 샘플의 첫 번째 토큰 10이 잘 인코딩되었는지 확인"
      ],
      "metadata": {
        "id": "3tVBi2zyo5J2"
      }
    },
    {
      "cell_type": "code",
      "source": [
        "print(train_oh[0][0][:12])"
      ],
      "metadata": {
        "colab": {
          "base_uri": "https://localhost:8080/"
        },
        "id": "QMtGbXsdo3vu",
        "outputId": "beea3ac8-b03d-4ee2-c836-9de1745aaecc"
      },
      "execution_count": 20,
      "outputs": [
        {
          "output_type": "stream",
          "name": "stdout",
          "text": [
            "[0. 0. 0. 0. 0. 0. 0. 0. 0. 0. 1. 0.]\n"
          ]
        }
      ]
    },
    {
      "cell_type": "markdown",
      "source": [
        "열한 번째 원소가 1인 것을 확인"
      ],
      "metadata": {
        "id": "MfAwDzgBo_kB"
      }
    },
    {
      "cell_type": "code",
      "source": [
        "# 모든 원소의 값을 더해서 1이 되는지 확인\n",
        "print(np.sum(train_oh[0][0]))"
      ],
      "metadata": {
        "id": "n_xQYIVWpFNb"
      },
      "execution_count": null,
      "outputs": []
    },
    {
      "cell_type": "code",
      "source": [
        "val_oh = keras.utils.to_categorical(val_seq)"
      ],
      "metadata": {
        "id": "wuGdzEZLpNCf"
      },
      "execution_count": 21,
      "outputs": []
    },
    {
      "cell_type": "code",
      "source": [
        "model.summary()"
      ],
      "metadata": {
        "colab": {
          "base_uri": "https://localhost:8080/"
        },
        "id": "ZnjO0nOCpOW5",
        "outputId": "f12a78cf-fe3c-4960-d81a-2e773dbde759"
      },
      "execution_count": 22,
      "outputs": [
        {
          "output_type": "stream",
          "name": "stdout",
          "text": [
            "Model: \"sequential\"\n",
            "_________________________________________________________________\n",
            " Layer (type)                Output Shape              Param #   \n",
            "=================================================================\n",
            " simple_rnn (SimpleRNN)      (None, 8)                 2472      \n",
            "                                                                 \n",
            " dense (Dense)               (None, 1)                 9         \n",
            "                                                                 \n",
            "=================================================================\n",
            "Total params: 2481 (9.69 KB)\n",
            "Trainable params: 2481 (9.69 KB)\n",
            "Non-trainable params: 0 (0.00 Byte)\n",
            "_________________________________________________________________\n"
          ]
        }
      ]
    },
    {
      "cell_type": "markdown",
      "source": [
        "**순환 신경망 훈련하기**"
      ],
      "metadata": {
        "id": "wiAttT_GpRyc"
      }
    },
    {
      "cell_type": "code",
      "source": [
        "rmsprop = keras.optimizers.RMSprop(learning_rate=1e-4)\n",
        "model.compile(optimizer=rmsprop, loss='binary_crossentropy',\n",
        "              metrics=['accuracy'])\n",
        "\n",
        "checkpoint_cb = keras.callbacks.ModelCheckpoint('best-simplernn-model.h5',\n",
        "                                                save_best_only=True)\n",
        "early_stopping_cb = keras.callbacks.EarlyStopping(patience=3,\n",
        "                                                  restore_best_weights=True)\n",
        "\n",
        "history = model.fit(train_oh, train_target, epochs=100, batch_size=64,\n",
        "                    validation_data=(val_oh, val_target),\n",
        "                    callbacks=[checkpoint_cb, early_stopping_cb])"
      ],
      "metadata": {
        "colab": {
          "base_uri": "https://localhost:8080/"
        },
        "id": "-N9RdOGypVKe",
        "outputId": "8c405305-bc6d-42ed-dc27-cbc880dc960f"
      },
      "execution_count": 23,
      "outputs": [
        {
          "output_type": "stream",
          "name": "stdout",
          "text": [
            "Epoch 1/100\n",
            "313/313 [==============================] - 20s 59ms/step - loss: 0.6994 - accuracy: 0.5053 - val_loss: 0.6966 - val_accuracy: 0.5084\n",
            "Epoch 2/100\n",
            "  5/313 [..............................] - ETA: 8s - loss: 0.6927 - accuracy: 0.5437"
          ]
        },
        {
          "output_type": "stream",
          "name": "stderr",
          "text": [
            "/usr/local/lib/python3.10/dist-packages/keras/src/engine/training.py:3079: UserWarning: You are saving your model as an HDF5 file via `model.save()`. This file format is considered legacy. We recommend using instead the native Keras format, e.g. `model.save('my_model.keras')`.\n",
            "  saving_api.save_model(\n"
          ]
        },
        {
          "output_type": "stream",
          "name": "stdout",
          "text": [
            "313/313 [==============================] - 14s 46ms/step - loss: 0.6933 - accuracy: 0.5218 - val_loss: 0.6915 - val_accuracy: 0.5290\n",
            "Epoch 3/100\n",
            "313/313 [==============================] - 15s 47ms/step - loss: 0.6832 - accuracy: 0.5555 - val_loss: 0.6734 - val_accuracy: 0.5830\n",
            "Epoch 4/100\n",
            "313/313 [==============================] - 14s 43ms/step - loss: 0.6597 - accuracy: 0.6170 - val_loss: 0.6554 - val_accuracy: 0.6282\n",
            "Epoch 5/100\n",
            "313/313 [==============================] - 14s 46ms/step - loss: 0.6422 - accuracy: 0.6492 - val_loss: 0.6423 - val_accuracy: 0.6420\n",
            "Epoch 6/100\n",
            "313/313 [==============================] - 15s 48ms/step - loss: 0.6270 - accuracy: 0.6680 - val_loss: 0.6256 - val_accuracy: 0.6698\n",
            "Epoch 7/100\n",
            "313/313 [==============================] - 15s 47ms/step - loss: 0.6133 - accuracy: 0.6827 - val_loss: 0.6118 - val_accuracy: 0.6860\n",
            "Epoch 8/100\n",
            "313/313 [==============================] - 15s 49ms/step - loss: 0.5999 - accuracy: 0.6978 - val_loss: 0.6016 - val_accuracy: 0.6902\n",
            "Epoch 9/100\n",
            "313/313 [==============================] - 17s 54ms/step - loss: 0.5879 - accuracy: 0.7078 - val_loss: 0.5859 - val_accuracy: 0.7042\n",
            "Epoch 10/100\n",
            "313/313 [==============================] - 13s 42ms/step - loss: 0.5760 - accuracy: 0.7178 - val_loss: 0.5762 - val_accuracy: 0.7122\n",
            "Epoch 11/100\n",
            "313/313 [==============================] - 14s 44ms/step - loss: 0.5652 - accuracy: 0.7269 - val_loss: 0.5654 - val_accuracy: 0.7208\n",
            "Epoch 12/100\n",
            "313/313 [==============================] - 14s 43ms/step - loss: 0.5561 - accuracy: 0.7333 - val_loss: 0.5608 - val_accuracy: 0.7256\n",
            "Epoch 13/100\n",
            "313/313 [==============================] - 12s 39ms/step - loss: 0.5478 - accuracy: 0.7389 - val_loss: 0.5512 - val_accuracy: 0.7320\n",
            "Epoch 14/100\n",
            "313/313 [==============================] - 13s 43ms/step - loss: 0.5405 - accuracy: 0.7436 - val_loss: 0.5436 - val_accuracy: 0.7384\n",
            "Epoch 15/100\n",
            "313/313 [==============================] - 12s 39ms/step - loss: 0.5342 - accuracy: 0.7473 - val_loss: 0.5381 - val_accuracy: 0.7386\n",
            "Epoch 16/100\n",
            "313/313 [==============================] - 14s 44ms/step - loss: 0.5293 - accuracy: 0.7508 - val_loss: 0.5326 - val_accuracy: 0.7410\n",
            "Epoch 17/100\n",
            "313/313 [==============================] - 15s 49ms/step - loss: 0.5240 - accuracy: 0.7536 - val_loss: 0.5293 - val_accuracy: 0.7418\n",
            "Epoch 18/100\n",
            "313/313 [==============================] - 15s 49ms/step - loss: 0.5199 - accuracy: 0.7556 - val_loss: 0.5248 - val_accuracy: 0.7454\n",
            "Epoch 19/100\n",
            "313/313 [==============================] - 11s 36ms/step - loss: 0.5160 - accuracy: 0.7568 - val_loss: 0.5219 - val_accuracy: 0.7476\n",
            "Epoch 20/100\n",
            "313/313 [==============================] - 18s 56ms/step - loss: 0.5127 - accuracy: 0.7606 - val_loss: 0.5188 - val_accuracy: 0.7458\n",
            "Epoch 21/100\n",
            "313/313 [==============================] - 14s 44ms/step - loss: 0.5097 - accuracy: 0.7607 - val_loss: 0.5174 - val_accuracy: 0.7484\n",
            "Epoch 22/100\n",
            "313/313 [==============================] - 13s 43ms/step - loss: 0.5071 - accuracy: 0.7638 - val_loss: 0.5158 - val_accuracy: 0.7490\n",
            "Epoch 23/100\n",
            "313/313 [==============================] - 12s 39ms/step - loss: 0.5045 - accuracy: 0.7650 - val_loss: 0.5143 - val_accuracy: 0.7490\n",
            "Epoch 24/100\n",
            "313/313 [==============================] - 13s 42ms/step - loss: 0.5025 - accuracy: 0.7666 - val_loss: 0.5114 - val_accuracy: 0.7480\n",
            "Epoch 25/100\n",
            "313/313 [==============================] - 11s 35ms/step - loss: 0.5007 - accuracy: 0.7656 - val_loss: 0.5099 - val_accuracy: 0.7514\n",
            "Epoch 26/100\n",
            "313/313 [==============================] - 11s 35ms/step - loss: 0.4988 - accuracy: 0.7664 - val_loss: 0.5096 - val_accuracy: 0.7512\n",
            "Epoch 27/100\n",
            "313/313 [==============================] - 12s 38ms/step - loss: 0.4973 - accuracy: 0.7679 - val_loss: 0.5082 - val_accuracy: 0.7508\n",
            "Epoch 28/100\n",
            "313/313 [==============================] - 13s 40ms/step - loss: 0.4957 - accuracy: 0.7681 - val_loss: 0.5083 - val_accuracy: 0.7520\n",
            "Epoch 29/100\n",
            "313/313 [==============================] - 12s 38ms/step - loss: 0.4941 - accuracy: 0.7687 - val_loss: 0.5062 - val_accuracy: 0.7502\n",
            "Epoch 30/100\n",
            "313/313 [==============================] - 11s 37ms/step - loss: 0.4926 - accuracy: 0.7704 - val_loss: 0.5061 - val_accuracy: 0.7550\n",
            "Epoch 31/100\n",
            "313/313 [==============================] - 11s 34ms/step - loss: 0.4914 - accuracy: 0.7693 - val_loss: 0.5042 - val_accuracy: 0.7534\n",
            "Epoch 32/100\n",
            "313/313 [==============================] - 12s 39ms/step - loss: 0.4902 - accuracy: 0.7707 - val_loss: 0.5082 - val_accuracy: 0.7526\n",
            "Epoch 33/100\n",
            "313/313 [==============================] - 12s 39ms/step - loss: 0.4896 - accuracy: 0.7708 - val_loss: 0.5045 - val_accuracy: 0.7528\n",
            "Epoch 34/100\n",
            "313/313 [==============================] - 12s 39ms/step - loss: 0.4881 - accuracy: 0.7717 - val_loss: 0.5048 - val_accuracy: 0.7540\n"
          ]
        }
      ]
    },
    {
      "cell_type": "code",
      "source": [
        "plt.plot(history.history['loss'])\n",
        "plt.plot(history.history['val_loss'])\n",
        "plt.xlabel('epoch')\n",
        "plt.ylabel('loss')\n",
        "plt.legend(['train', 'val'])\n",
        "plt.show()"
      ],
      "metadata": {
        "colab": {
          "base_uri": "https://localhost:8080/",
          "height": 449
        },
        "id": "8N-q0SS1pZz6",
        "outputId": "86eccb8a-b4b3-486f-bc76-6756d4d49c6c"
      },
      "execution_count": 24,
      "outputs": [
        {
          "output_type": "display_data",
          "data": {
            "text/plain": [
              "<Figure size 640x480 with 1 Axes>"
            ],
            "image/png": "[encoded data removed]"
          },
          "metadata": {}
        }
      ]
    },
    {
      "cell_type": "markdown",
      "source": [
        "**단어 임베딩을 사용하기**"
      ],
      "metadata": {
        "id": "OMzjZ8i-peod"
      }
    },
    {
      "cell_type": "markdown",
      "source": [
        "**단어 임베딩** 각 단어를 고정된 크기의 실수 벡터로 바꾸어 줌\n",
        "\n",
        "원-핫 인코딩된 벡터보다 훨씬 의미 있는 값으로 채워져 있기 때문에 자연어 처리에서 더 좋은 성능을 발휘\n",
        "\n",
        "keras.layers 패키지 아래 **Embaddilng**클래스로 제공\n",
        "\n",
        "처음에는 모든 벡터가 랜덤하게 초기화되지만 훈련을 통해 데이터에서 좋은 단어 임베딩을 학습"
      ],
      "metadata": {
        "id": "-80lcfFNpjAy"
      }
    },
    {
      "cell_type": "markdown",
      "source": [
        "앞서 원-핫 인코딩은 샘플 하나를 300차원으로 늘렸기 때문에 (100,) 크기의 샘플이 (100,300)으로 커짐\n",
        "\n",
        "임베딩도 (100,)크기의 샘플을 (100,20)과 같이 2차원 배열로 늘림\n",
        "\n",
        "하지만 훨씬 작은 크기로도 단어를 잘 표"
      ],
      "metadata": {
        "id": "Jnib9ajmqF4I"
      }
    },
    {
      "cell_type": "code",
      "source": [
        "model2 = keras.Sequential()\n",
        "\n",
        "model2.add(keras.layers.Embedding(300, 16, input_length=100))\n",
        "model2.add(keras.layers.SimpleRNN(8))\n",
        "model2.add(keras.layers.Dense(1, activation='sigmoid'))\n",
        "\n",
        "model2.summary()"
      ],
      "metadata": {
        "colab": {
          "base_uri": "https://localhost:8080/"
        },
        "id": "9Kq-zdg1qWhO",
        "outputId": "563b6bfb-6d9e-4952-a5a9-09991065a460"
      },
      "execution_count": 25,
      "outputs": [
        {
          "output_type": "stream",
          "name": "stdout",
          "text": [
            "Model: \"sequential_1\"\n",
            "_________________________________________________________________\n",
            " Layer (type)                Output Shape              Param #   \n",
            "=================================================================\n",
            " embedding (Embedding)       (None, 100, 16)           4800      \n",
            "                                                                 \n",
            " simple_rnn_1 (SimpleRNN)    (None, 8)                 200       \n",
            "                                                                 \n",
            " dense_1 (Dense)             (None, 1)                 9         \n",
            "                                                                 \n",
            "=================================================================\n",
            "Total params: 5009 (19.57 KB)\n",
            "Trainable params: 5009 (19.57 KB)\n",
            "Non-trainable params: 0 (0.00 Byte)\n",
            "_________________________________________________________________\n"
          ]
        }
      ]
    },
    {
      "cell_type": "code",
      "source": [
        "# 모델 훈련 과정은 이전과 동일\n",
        "rmsprop = keras.optimizers.RMSprop(learning_rate=1e-4)\n",
        "model2.compile(optimizer=rmsprop, loss='binary_crossentropy',\n",
        "               metrics=['accuracy'])\n",
        "\n",
        "checkpoint_cb = keras.callbacks.ModelCheckpoint('best-embedding-model.h5',\n",
        "                                                save_best_only=True)\n",
        "early_stopping_cb = keras.callbacks.EarlyStopping(patience=3,\n",
        "                                                  restore_best_weights=True)\n",
        "\n",
        "history = model2.fit(train_seq, train_target, epochs=100, batch_size=64,\n",
        "                     validation_data=(val_seq, val_target),\n",
        "                     callbacks=[checkpoint_cb, early_stopping_cb])"
      ],
      "metadata": {
        "colab": {
          "base_uri": "https://localhost:8080/"
        },
        "id": "9c26Atbxqb0u",
        "outputId": "64269611-a554-46c3-9899-7f6bef5d9af8"
      },
      "execution_count": 26,
      "outputs": [
        {
          "output_type": "stream",
          "name": "stdout",
          "text": [
            "Epoch 1/100\n",
            "313/313 [==============================] - 11s 33ms/step - loss: 0.6937 - accuracy: 0.5199 - val_loss: 0.6819 - val_accuracy: 0.5742\n",
            "Epoch 2/100\n",
            "313/313 [==============================] - 8s 24ms/step - loss: 0.6728 - accuracy: 0.6016 - val_loss: 0.6632 - val_accuracy: 0.6352\n",
            "Epoch 3/100\n",
            "313/313 [==============================] - 10s 31ms/step - loss: 0.6529 - accuracy: 0.6560 - val_loss: 0.6447 - val_accuracy: 0.6650\n",
            "Epoch 4/100\n",
            "313/313 [==============================] - 10s 31ms/step - loss: 0.6338 - accuracy: 0.6859 - val_loss: 0.6273 - val_accuracy: 0.6864\n",
            "Epoch 5/100\n",
            "313/313 [==============================] - 8s 25ms/step - loss: 0.6154 - accuracy: 0.7054 - val_loss: 0.6115 - val_accuracy: 0.7030\n",
            "Epoch 6/100\n",
            "313/313 [==============================] - 10s 32ms/step - loss: 0.5997 - accuracy: 0.7189 - val_loss: 0.5965 - val_accuracy: 0.7128\n",
            "Epoch 7/100\n",
            "313/313 [==============================] - 8s 25ms/step - loss: 0.5843 - accuracy: 0.7285 - val_loss: 0.5804 - val_accuracy: 0.7346\n",
            "Epoch 8/100\n",
            "313/313 [==============================] - 10s 31ms/step - loss: 0.5702 - accuracy: 0.7375 - val_loss: 0.5702 - val_accuracy: 0.7334\n",
            "Epoch 9/100\n",
            "313/313 [==============================] - 10s 32ms/step - loss: 0.5576 - accuracy: 0.7430 - val_loss: 0.5584 - val_accuracy: 0.7402\n",
            "Epoch 10/100\n",
            "313/313 [==============================] - 8s 24ms/step - loss: 0.5460 - accuracy: 0.7492 - val_loss: 0.5475 - val_accuracy: 0.7438\n",
            "Epoch 11/100\n",
            "313/313 [==============================] - 10s 32ms/step - loss: 0.5352 - accuracy: 0.7547 - val_loss: 0.5462 - val_accuracy: 0.7374\n",
            "Epoch 12/100\n",
            "313/313 [==============================] - 8s 27ms/step - loss: 0.5262 - accuracy: 0.7588 - val_loss: 0.5310 - val_accuracy: 0.7560\n",
            "Epoch 13/100\n",
            "313/313 [==============================] - 9s 29ms/step - loss: 0.5192 - accuracy: 0.7608 - val_loss: 0.5312 - val_accuracy: 0.7452\n",
            "Epoch 14/100\n",
            "313/313 [==============================] - 10s 32ms/step - loss: 0.5135 - accuracy: 0.7630 - val_loss: 0.5225 - val_accuracy: 0.7526\n",
            "Epoch 15/100\n",
            "313/313 [==============================] - 8s 25ms/step - loss: 0.5096 - accuracy: 0.7639 - val_loss: 0.5198 - val_accuracy: 0.7522\n",
            "Epoch 16/100\n",
            "313/313 [==============================] - 10s 32ms/step - loss: 0.5046 - accuracy: 0.7659 - val_loss: 0.5181 - val_accuracy: 0.7500\n",
            "Epoch 17/100\n",
            "313/313 [==============================] - 9s 28ms/step - loss: 0.5015 - accuracy: 0.7670 - val_loss: 0.5181 - val_accuracy: 0.7508\n",
            "Epoch 18/100\n",
            "313/313 [==============================] - 9s 28ms/step - loss: 0.4993 - accuracy: 0.7682 - val_loss: 0.5153 - val_accuracy: 0.7518\n",
            "Epoch 19/100\n",
            "313/313 [==============================] - 10s 32ms/step - loss: 0.4967 - accuracy: 0.7708 - val_loss: 0.5148 - val_accuracy: 0.7516\n",
            "Epoch 20/100\n",
            "313/313 [==============================] - 8s 25ms/step - loss: 0.4946 - accuracy: 0.7718 - val_loss: 0.5122 - val_accuracy: 0.7532\n",
            "Epoch 21/100\n",
            "313/313 [==============================] - 10s 32ms/step - loss: 0.4935 - accuracy: 0.7704 - val_loss: 0.5113 - val_accuracy: 0.7516\n",
            "Epoch 22/100\n",
            "313/313 [==============================] - 9s 29ms/step - loss: 0.4917 - accuracy: 0.7732 - val_loss: 0.5144 - val_accuracy: 0.7514\n",
            "Epoch 23/100\n",
            "313/313 [==============================] - 8s 26ms/step - loss: 0.4897 - accuracy: 0.7732 - val_loss: 0.5101 - val_accuracy: 0.7542\n",
            "Epoch 24/100\n",
            "313/313 [==============================] - 10s 32ms/step - loss: 0.4884 - accuracy: 0.7721 - val_loss: 0.5103 - val_accuracy: 0.7542\n",
            "Epoch 25/100\n",
            "313/313 [==============================] - 8s 25ms/step - loss: 0.4868 - accuracy: 0.7745 - val_loss: 0.5081 - val_accuracy: 0.7534\n",
            "Epoch 26/100\n",
            "313/313 [==============================] - 10s 32ms/step - loss: 0.4856 - accuracy: 0.7727 - val_loss: 0.5073 - val_accuracy: 0.7562\n",
            "Epoch 27/100\n",
            "313/313 [==============================] - 9s 29ms/step - loss: 0.4840 - accuracy: 0.7748 - val_loss: 0.5139 - val_accuracy: 0.7524\n",
            "Epoch 28/100\n",
            "313/313 [==============================] - 8s 27ms/step - loss: 0.4828 - accuracy: 0.7748 - val_loss: 0.5124 - val_accuracy: 0.7550\n",
            "Epoch 29/100\n",
            "313/313 [==============================] - 10s 32ms/step - loss: 0.4813 - accuracy: 0.7744 - val_loss: 0.5120 - val_accuracy: 0.7524\n"
          ]
        }
      ]
    },
    {
      "cell_type": "code",
      "source": [
        "plt.plot(history.history['loss'])\n",
        "plt.plot(history.history['val_loss'])\n",
        "plt.xlabel('epoch')\n",
        "plt.ylabel('loss')\n",
        "plt.legend(['train', 'val'])\n",
        "plt.show()"
      ],
      "metadata": {
        "colab": {
          "base_uri": "https://localhost:8080/",
          "height": 449
        },
        "id": "wyB0lLeuqh1N",
        "outputId": "3269b733-51c1-4254-a741-98a665a9c2b3"
      },
      "execution_count": 27,
      "outputs": [
        {
          "output_type": "display_data",
          "data": {
            "text/plain": [
              "<Figure size 640x480 with 1 Axes>"
            ],
            "image/png": "[encoded data removed]"
          },
          "metadata": {}
        }
      ]
    }
  ]
}