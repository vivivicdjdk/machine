{
  "nbformat": 4,
  "nbformat_minor": 0,
  "metadata": {
    "colab": {
      "provenance": [],
      "authorship_tag": "ABX9TyNgWzy18k6+c/LSQ6Bv4W3U",
      "include_colab_link": true
    },
    "kernelspec": {
      "name": "python3",
      "display_name": "Python 3"
    },
    "language_info": {
      "name": "python"
    }
  },
  "cells": [
    {
      "cell_type": "markdown",
      "metadata": {
        "id": "view-in-github",
        "colab_type": "text"
      },
      "source": [
        "<a href=\"https://colab.research.google.com/github/vivivicdjdk/machine/blob/main/5_2.ipynb\" target=\"_parent\"><img src=\"https://colab.research.google.com/assets/colab-badge.svg\" alt=\"Open In Colab\"/></a>"
      ]
    },
    {
      "cell_type": "markdown",
      "source": [
        "#교차 검증과 그리드 서치"
      ],
      "metadata": {
        "id": "L_kpNDck4Z3k"
      }
    },
    {
      "cell_type": "markdown",
      "source": [
        "일반적인 모델 생성 방법\n",
        "\n",
        "1. 훈련 세트로 모델을 생성\n",
        "\n",
        "  * 하이퍼 파라미터 조절\n",
        "\n",
        "2. 테스트 세트로 모델 평가\n",
        "\n",
        "이러한 과정을 반복하다보면 결국 모델이 훈련 세트 뿐만 아니라 테스트 세트에도 맞추어짐"
      ],
      "metadata": {
        "id": "wvWmHqbC5zv8"
      }
    },
    {
      "cell_type": "markdown",
      "source": [
        "##검증 세트(validation set)\n",
        "\n",
        "모델을 만들고 나서 테스트 세트는 딱 한 번 사용되는 것이 좋음\n",
        "\n",
        "따라서 추가로 검증 세트를 또 나눔\n",
        "\n",
        "대략 훈련세트 60%, 검증 세트 20%, 테스트 세트 20%"
      ],
      "metadata": {
        "id": "BYVC9HXS59v-"
      }
    },
    {
      "cell_type": "code",
      "execution_count": null,
      "metadata": {
        "id": "JC2a71Lt37Fx"
      },
      "outputs": [],
      "source": [
        "import pandas as pd\n",
        "wine = pd.read_csv('https://bit.ly/wine_csv_data')\n",
        "\n",
        "data = wine[['alcohol', 'sugar', 'pH']].to_numpy()\n",
        "target = wine['class'].to_numpy()"
      ]
    },
    {
      "cell_type": "code",
      "source": [
        "from sklearn.model_selection import train_test_split\n",
        "train_input, test_input, train_target, test_target = train_test_split(  # 훈련 세트와 테스트 세트를 나눔(이전과 동일)\n",
        "    data, target, test_size=0.2, random_state=42)\n",
        "\n",
        "sub_input, val_input, sub_target, val_target = train_test_split(        # train_input과 _target을 다시 함수에 넣어 훈련세트(sub) 80%와 검증세트(val) 20%를 생성\n",
        "    train_input, train_target, test_size=0.2, random_state=42)\n",
        "print(sub_input.shape, val_input.shape)"
      ],
      "metadata": {
        "colab": {
          "base_uri": "https://localhost:8080/"
        },
        "id": "cDjYtHQO6TUj",
        "outputId": "0a2eb648-b132-4874-d965-e5ad809ea045"
      },
      "execution_count": null,
      "outputs": [
        {
          "output_type": "stream",
          "name": "stdout",
          "text": [
            "(4157, 3) (1040, 3)\n"
          ]
        }
      ]
    },
    {
      "cell_type": "code",
      "source": [
        "from sklearn.tree import DecisionTreeClassifier\n",
        "\n",
        "\n",
        "dt = DecisionTreeClassifier(random_state=42)\n",
        "dt.fit(sub_input, sub_target)\n",
        "\n",
        "print(dt.score(sub_input, sub_target))\n",
        "print(dt.score(val_input, val_target))"
      ],
      "metadata": {
        "colab": {
          "base_uri": "https://localhost:8080/"
        },
        "id": "0-wdalPU6aj0",
        "outputId": "0201ef51-0e0a-4a5b-c24d-795218ecdd6b"
      },
      "execution_count": null,
      "outputs": [
        {
          "output_type": "stream",
          "name": "stdout",
          "text": [
            "0.9971133028626413\n",
            "0.864423076923077\n"
          ]
        }
      ]
    },
    {
      "cell_type": "markdown",
      "source": [
        "훈련 세트와 검증 세트의 평가 점수를 이용하여 최적화\n",
        "\n",
        "최적화 완료 후 테스트 세트로 모델을 최종 평가"
      ],
      "metadata": {
        "id": "YMmfTdh56e8Z"
      }
    },
    {
      "cell_type": "code",
      "source": [
        "#최적화\n",
        "from sklearn.tree import DecisionTreeClassifier\n",
        "\n",
        "dt = DecisionTreeClassifier(max_depth=3, random_state=42)\n",
        "#max_depth\n",
        "#min_impurity_decrease\n",
        "dt.fit(sub_input, sub_target)\n",
        "\n",
        "print(dt.score(sub_input, sub_target))\n",
        "print(dt.score(val_input, val_target))"
      ],
      "metadata": {
        "colab": {
          "base_uri": "https://localhost:8080/"
        },
        "id": "6dEq8Cpz7BQd",
        "outputId": "cda8e566-618e-490d-a933-564781bcd9ac"
      },
      "execution_count": null,
      "outputs": [
        {
          "output_type": "stream",
          "name": "stdout",
          "text": [
            "0.8482078421938898\n",
            "0.8490384615384615\n"
          ]
        }
      ]
    },
    {
      "cell_type": "code",
      "source": [
        "print(dt.score(test_input, test_target))"
      ],
      "metadata": {
        "colab": {
          "base_uri": "https://localhost:8080/"
        },
        "id": "aJv3ldSd6cIJ",
        "outputId": "8ffe261b-0f1a-4988-a1eb-a9f55a7337d9"
      },
      "execution_count": null,
      "outputs": [
        {
          "output_type": "stream",
          "name": "stdout",
          "text": [
            "0.8569230769230769\n"
          ]
        }
      ]
    },
    {
      "cell_type": "markdown",
      "source": [
        "검증 세트의 문제점?\n",
        "\n",
        "검증 세트로 인해 훈련 세트가 줄어듬\n",
        "\n",
        "보통 많은 데이터를 훈련에 사용할수록 좋은 모델이 만들어짐\n",
        "\n",
        "검증 세트를 너무 조금 뗴어 놓으면 검증 점수가 불안정\n",
        "\n",
        "이러한 문제를 보완할 방법이 필요"
      ],
      "metadata": {
        "id": "3-7DUll18UTg"
      }
    },
    {
      "cell_type": "markdown",
      "source": [
        "##교차검증(cross validation)\n",
        "\n",
        "검증 세트를 떼어 내어 평가하는 과정을 여러번 반복"
      ],
      "metadata": {
        "id": "Ze8uxOj38UCD"
      }
    },
    {
      "cell_type": "markdown",
      "source": [
        "예를 들어, 3-폴드 교차 검증은 훈련 세트를 3부분으로 나누어 그 중 하나를 교대로 검증 세트로 설정\n",
        "\n",
        "즉, 훈련세트를 1,2,3폴드로 나눈다면 1,2폴드는 훈련에 사용하고 3폴드는 검증에 사용한 후에 1,3은 훈련, 2는 검증, 마지막으로 2,3은 훈련, 1은 검증으로 사용\n",
        "\n",
        "검증 점수의 평균을 최종 점수로 정함\n",
        "\n",
        "보통은 5나 10-폴드 교차 검증 사용\n",
        "\n",
        "cross_validate() 함수 사용 기본적으로 5-폴드 교차검증\n",
        "\n",
        "매개변수 (평가할 모델 객체, 훈련 세트 전체 전달)\n"
      ],
      "metadata": {
        "id": "8nI4av3G8oHC"
      }
    },
    {
      "cell_type": "code",
      "source": [
        "from sklearn.model_selection import cross_validate\n",
        "\n",
        "scores = cross_validate(dt, train_input, train_target) # test_score 값만 반환\n",
        "print(scores)"
      ],
      "metadata": {
        "colab": {
          "base_uri": "https://localhost:8080/"
        },
        "id": "ZQylVIwI9AiW",
        "outputId": "e38fd43f-9c16-4224-96e6-7352313d83fe"
      },
      "execution_count": null,
      "outputs": [
        {
          "output_type": "stream",
          "name": "stdout",
          "text": [
            "{'fit_time': array([0.00547099, 0.01026654, 0.00520706, 0.00512838, 0.00508118]), 'score_time': array([0.00143814, 0.00446844, 0.00138831, 0.00565434, 0.00139046]), 'test_score': array([0.84230769, 0.83365385, 0.84504331, 0.8373436 , 0.8479307 ])}\n"
          ]
        }
      ]
    },
    {
      "cell_type": "markdown",
      "source": [
        "교차 검증의 최종 점수\n",
        "\n",
        "test_score 키에 담긴 5개의 점수의 평균\n",
        "\n",
        "이름은 test_score이지만 테스트 점수가 아닌 검증 점수"
      ],
      "metadata": {
        "id": "OVhkLCKW9N3Z"
      }
    },
    {
      "cell_type": "code",
      "source": [
        "import numpy as np\n",
        "\n",
        "print(np.mean(scores['test_score']))"
      ],
      "metadata": {
        "colab": {
          "base_uri": "https://localhost:8080/"
        },
        "id": "xA18fRXm9UiV",
        "outputId": "6011d32f-45f0-41b6-a4c7-f48e3151cd0b"
      },
      "execution_count": null,
      "outputs": [
        {
          "output_type": "stream",
          "name": "stdout",
          "text": [
            "0.8412558303102096\n"
          ]
        }
      ]
    },
    {
      "cell_type": "markdown",
      "source": [
        "주의\n",
        "\n",
        "cross_validate()는 훈련 세트를 섞어 폴드를 나누지 않음\n",
        "\n",
        "만약 train_test_split()을 하지 않았다면 분할기를 지정해야함\n",
        "\n",
        "cross_validate()는 회귀 모델일 경우 KFold 분할기를 사용하고 분류 모델일 경우 StratifiedKFold를 사용\n",
        "\n",
        "섞지 않는 것이 디폴트이므로 따로 설정해줘야"
      ],
      "metadata": {
        "id": "xdQu0w7h9YPR"
      }
    },
    {
      "cell_type": "code",
      "source": [
        "from sklearn.model_selection import StratifiedKFold\n",
        "\n",
        "scores = cross_validate(dt, train_input, train_target, cv=StratifiedKFold())\n",
        "print(StratifiedKFold())                                  # 기본적으로 사용\n",
        "print(scores)\n",
        "print(np.mean(scores['test_score']))  ## 앞서 수행한 코드와 동일"
      ],
      "metadata": {
        "colab": {
          "base_uri": "https://localhost:8080/"
        },
        "id": "eeteZIYn9zEV",
        "outputId": "b9178526-dce2-44ed-8700-d0c3618d3dcd"
      },
      "execution_count": null,
      "outputs": [
        {
          "output_type": "stream",
          "name": "stdout",
          "text": [
            "StratifiedKFold(n_splits=5, random_state=None, shuffle=False)\n",
            "{'fit_time': array([0.00525451, 0.00474405, 0.00501132, 0.00522089, 0.00520968]), 'score_time': array([0.00132728, 0.00162244, 0.00144672, 0.00159883, 0.00156879]), 'test_score': array([0.84230769, 0.83365385, 0.84504331, 0.8373436 , 0.8479307 ])}\n",
            "0.8412558303102096\n"
          ]
        }
      ]
    },
    {
      "cell_type": "markdown",
      "source": [
        "훈련 세트를 먼저 섞은 후 10-폴드 교차 검증을 수행"
      ],
      "metadata": {
        "id": "GXqZj67E96qo"
      }
    },
    {
      "cell_type": "code",
      "source": [
        "splitter = StratifiedKFold(n_splits=10, shuffle=True, random_state=42)\n",
        "print(splitter)\n",
        "scores = cross_validate(dt, train_input, train_target, cv=splitter)\n",
        "print(scores)\n",
        "print(np.mean(scores['test_score']))"
      ],
      "metadata": {
        "colab": {
          "base_uri": "https://localhost:8080/"
        },
        "id": "XI0wYqIP9z0c",
        "outputId": "4d2a963f-0e8a-42b6-b763-6011fec53a08"
      },
      "execution_count": null,
      "outputs": [
        {
          "output_type": "stream",
          "name": "stdout",
          "text": [
            "StratifiedKFold(n_splits=10, random_state=42, shuffle=True)\n",
            "{'fit_time': array([0.00598693, 0.0057261 , 0.00550008, 0.00531316, 0.00527048,\n",
            "       0.00549102, 0.00585699, 0.00596261, 0.0054369 , 0.0054276 ]), 'score_time': array([0.00162935, 0.00189471, 0.00126934, 0.00133061, 0.00199556,\n",
            "       0.00140476, 0.00138831, 0.00141931, 0.00134611, 0.00165248]), 'test_score': array([0.82307692, 0.86153846, 0.80769231, 0.83653846, 0.83461538,\n",
            "       0.83653846, 0.85      , 0.8150289 , 0.83815029, 0.83236994])}\n",
            "0.8335549132947977\n"
          ]
        }
      ]
    },
    {
      "cell_type": "markdown",
      "source": [
        "cross_validate는 자체적으로 모델을 훈련시키기는 하나\n",
        "\n",
        "훈련(fit)필수\n",
        "\n",
        "교차 검증 아이디어를 활용하여 하이퍼파라미터 튜닝을 수행\n",
        "\n",
        "매개변수 값을 바꿔가며 가장 좋은 성능이 나오는 모델을 찾는 과정에서 테스트 세트를 사용하지 않고 교차 검증을 이용\n",
        "\n"
      ],
      "metadata": {
        "id": "y8zSzq4c-J55"
      }
    },
    {
      "cell_type": "markdown",
      "source": [
        "##하이퍼파라미터 튜닝"
      ],
      "metadata": {
        "id": "OLo2b7Tl-WP4"
      }
    },
    {
      "cell_type": "markdown",
      "source": [
        "하이퍼파라미터: 모델이 학습할 수 없어서 사용자가 지정해야만 하는 파라미터\n",
        "\n",
        "예를들어, 결정 트리 모델에서는 max_depth와 min_samples_split, min_inpurity_decrease등\n",
        "\n",
        "반대로 모델이 학습하는 파라미터는 모델 파라미터\n",
        "\n",
        "예를들어, 결정 트리 모델에서는 분할변수와 분할점\n",
        "\n",
        "튜닝 작업을 기본값을 그대로 사용해서 모델을 훈련한 후, 검증 세트의 점수나 교차 검증을 통해서 매개변수를 조금씩 바꿔가면서 최적의 값을 찾음\n",
        "\n",
        "문제는 한 매개변수의 최적값을 찾고 다른 매개변수의 최적값을 찾으면 안됨\n",
        "\n",
        "모든 매개변수를 동시에 바꿔가면서 최적의 값을 찾아야 함\n",
        "\n",
        "예를들어, 결정 트리 모델에서 최적의 max_depth와 min_impurity_decrease를 동시에 찾아야 함\n",
        "\n",
        "매개변수가 많아질수록 최적의 값들을 찾는 것이 복잡\n",
        "\n",
        "---\n",
        "\n",
        "참고) min_samples_split: 노드를 분할하기 위한 최소한의 샘플 데이터 수\n",
        "\n",
        "예를 들면, 한번 나눴는데 한 집단에 2개의 데이터가 들어있다면 더 이상 나누지 않는 것\n",
        "\n",
        "만약에 1이라면 끝까지 계속 나누기 때문에 과적합의 가능성이 있음\n",
        "\n",
        "기본값은 2\n",
        "\n",
        "---\n",
        "\n",
        "참고: 사람의 개입 없이 튜닝을 자동으로 수행하는 기술을 AutoML이라고 함"
      ],
      "metadata": {
        "id": "ydKPH-hmybX5"
      }
    },
    {
      "cell_type": "markdown",
      "source": [
        "##그리드 서치"
      ],
      "metadata": {
        "id": "ciqw04Go3kYQ"
      }
    },
    {
      "cell_type": "markdown",
      "source": [
        "\n",
        "\n",
        "하이퍼파라미터 탐색과 교차 검증을 한 번에 수행\n",
        "\n",
        "즉, cross_validate()함수를 호출할 필요가 없음\n",
        "\n",
        "---\n",
        "\n",
        "예제: 결정 트리 모델에서 min_impurity_decrease 최적값 찾기\n",
        "\n",
        "GridSearchCV 클래스를 import하고 탐색할 매개변수와 탐색할 값의 리스트를 딕셔너리로 만듦"
      ],
      "metadata": {
        "id": "0vxACYVgzys2"
      }
    },
    {
      "cell_type": "code",
      "source": [
        "from sklearn.model_selection import GridSearchCV #CV(CrossValidate 교차검증을 사용함)\n",
        "\n",
        "params = {'min_impurity_decrease': [0.0001, 0.0002, 0.0003, 0.0004, 0.0005]}\n",
        "gs = GridSearchCV(DecisionTreeClassifier(random_state=42), params, n_jobs=-1) # 탐색 대상 모델과 params 변수를 전달하여 그리드 서치 객체 생성\n",
        "print(gs)"
      ],
      "metadata": {
        "colab": {
          "base_uri": "https://localhost:8080/"
        },
        "id": "0nIaC21O_Q2j",
        "outputId": "e321ecb9-b71f-40c0-ffee-a5ff04839f93"
      },
      "execution_count": null,
      "outputs": [
        {
          "output_type": "stream",
          "name": "stdout",
          "text": [
            "GridSearchCV(estimator=DecisionTreeClassifier(random_state=42), n_jobs=-1,\n",
            "             param_grid={'min_impurity_decrease': [0.0001, 0.0002, 0.0003,\n",
            "                                                   0.0004, 0.0005]})\n"
          ]
        }
      ]
    },
    {
      "cell_type": "markdown",
      "source": [
        "GridSearchCV의 cv 매개변수 기본값은 5이므로 params에서 설정한 5개의 min_impurity_decrease 별로 결정 트리를 5번 실행\n",
        "\n",
        "즉, 25번의 결정 트리 모델을 훈련\n",
        "\n",
        "n_jobs: 병렬 실행에서 사용할 CPU 코어 수이며, -1이면 모든 코어를 사용(기본값은 1)"
      ],
      "metadata": {
        "id": "anMKV1uQ0ssG"
      }
    },
    {
      "cell_type": "code",
      "source": [
        "gs.fit(train_input, train_target)\n",
        "dt = gs.best_estimator_\n",
        "print(dt.score(train_input, train_target))  # best_estimator_에 저장된 값으로 모델을 다시 훈련"
      ],
      "metadata": {
        "colab": {
          "base_uri": "https://localhost:8080/"
        },
        "id": "7b231Sn4_p_t",
        "outputId": "bf59c724-8301-4bd3-9b00-5244ee2f6fea"
      },
      "execution_count": null,
      "outputs": [
        {
          "output_type": "stream",
          "name": "stdout",
          "text": [
            "0.9615162593804117\n"
          ]
        }
      ]
    },
    {
      "cell_type": "markdown",
      "source": [
        "검증 점수가 가장 높은 매개변수 조합의 모델은 gs.best_estimator_속성에 저장됨\n",
        "\n",
        "그리드 서치로 찾은 최적의 매개변수는 best_params_ 속성에 저장"
      ],
      "metadata": {
        "id": "rb2DiMtl_z5B"
      }
    },
    {
      "cell_type": "code",
      "source": [
        "print(gs.best_estimator_)\n",
        "print(gs.best_params_)"
      ],
      "metadata": {
        "colab": {
          "base_uri": "https://localhost:8080/"
        },
        "id": "UZSLK8Hk_xcv",
        "outputId": "8c878085-c052-4566-e22a-302542cdbb75"
      },
      "execution_count": null,
      "outputs": [
        {
          "output_type": "stream",
          "name": "stdout",
          "text": [
            "DecisionTreeClassifier(min_impurity_decrease=0.0001, random_state=42)\n",
            "{'min_impurity_decrease': 0.0001}\n"
          ]
        }
      ]
    },
    {
      "cell_type": "markdown",
      "source": [
        "각 매개변수에서 수행한 교차 검증의 평균 점수는 cv_results_ 속성의 'mean_test_score'키에 저장"
      ],
      "metadata": {
        "id": "NfTw6wkmADum"
      }
    },
    {
      "cell_type": "code",
      "source": [
        "print(gs.cv_results_['mean_test_score'])"
      ],
      "metadata": {
        "colab": {
          "base_uri": "https://localhost:8080/"
        },
        "id": "M2-r2B6nALPa",
        "outputId": "607382d8-b8e7-4d7e-bccd-de438565e6d0"
      },
      "execution_count": null,
      "outputs": [
        {
          "output_type": "stream",
          "name": "stdout",
          "text": [
            "[0.86819297 0.86453617 0.86492226 0.86780891 0.86761605]\n"
          ]
        }
      ]
    },
    {
      "cell_type": "markdown",
      "source": [
        "넘파이 argmax() 함수를 사용하여 가장 큰 값의 인덱스를 추출\n",
        "\n",
        "params 키에 저장된 매개변수 출력"
      ],
      "metadata": {
        "id": "53omUuuNAZp7"
      }
    },
    {
      "cell_type": "code",
      "source": [
        "best_index = np.argmax(gs.cv_results_['mean_test_score'])\n",
        "print(gs.cv_results_['params'][best_index])"
      ],
      "metadata": {
        "colab": {
          "base_uri": "https://localhost:8080/"
        },
        "id": "PJnikxO8Ag97",
        "outputId": "aca96b91-b095-4fee-fe97-fb78f7e4831c"
      },
      "execution_count": null,
      "outputs": [
        {
          "output_type": "stream",
          "name": "stdout",
          "text": [
            "{'min_impurity_decrease': 0.0001}\n"
          ]
        }
      ]
    },
    {
      "cell_type": "markdown",
      "source": [
        "그리드 서치를 이용한 최적화 과정 정리\n",
        "  1. 탐색할 매개변수를 지정\n",
        "  2. 훈련 세트에서 그리드 서치를 수행하여 최상의 평균 검증 점수가 나오는 매개변수 조합 찾음\n",
        "\n",
        "      * 이 조합은 그리드 서치 객체에 저장\n",
        "\n",
        "  3. 그리드 서치는 최상의 매개변수에서 (교차 검증에 사용한 훈련 세트가 아닌) 전체 훈련 세트를 사용해 최종 모델을 훈련\n",
        "      * 이 모델은 그리드 서치 객체에 저장"
      ],
      "metadata": {
        "id": "MNjq4-g_A5cZ"
      }
    },
    {
      "cell_type": "markdown",
      "source": [
        "**예제: 결정 트리 모델에서 min_impurity_decrease, mac_depth, main_samples_splt 최적값 찾기**\n",
        "\n",
        "np.arange는 첫 번째 매개변수 값에서 시작하여 두번째 매개변수에 도달할 때까지 세번째 매개변수를 계속 더한 배열을 생성\n",
        "\n",
        "즉, [0.0001, 0.0002, 0.0003, 0.0004, 0.0005, 0.0006, 0.0007, 0.0008, 0.0009]\n",
        "\n",
        "range도 비슷하지만 정수만 가능\n",
        "\n",
        "즉, [5, 6, 7, 8, 9, 10, 11, 12, 13, 14, 15, 16, 17, 18, 19]와 [2, 12, 22, 32, 42, 52, 62, 72, 82, 92]\n",
        "\n",
        "여기서 수행할 교차 검증 횟수는 9x15x10=1350\n",
        "\n",
        "기본 5-폴드 교차 검증을 수행하므로 만들어지는 모델의 수는 6750개"
      ],
      "metadata": {
        "id": "CqFQK6bT2hIo"
      }
    },
    {
      "cell_type": "code",
      "source": [
        "params = {'min_impurity_decrease': np.arange(0.0001, 0.001, 0.0001),\n",
        "          'max_depth': range(5, 20, 1),\n",
        "          'min_samples_split': range(2, 100, 10) #2,12,...,92\n",
        "          }\n",
        "\n",
        "dt = DecisionTreeClassifier(random_state=42)\n",
        "gs = GridSearchCV(DecisionTreeClassifier(random_state=42), params, n_jobs=-1)\n",
        "gs.fit(train_input, train_target)\n",
        "print(gs.best_params_)"
      ],
      "metadata": {
        "colab": {
          "base_uri": "https://localhost:8080/"
        },
        "id": "ncuXQFRaBP-e",
        "outputId": "f62a9f5c-fd2d-4df8-fd72-d89b56abb1fc"
      },
      "execution_count": null,
      "outputs": [
        {
          "output_type": "stream",
          "name": "stdout",
          "text": [
            "{'max_depth': 14, 'min_impurity_decrease': 0.0004, 'min_samples_split': 12}\n"
          ]
        }
      ]
    },
    {
      "cell_type": "markdown",
      "source": [
        "최상의 교차 검증 점수 확인"
      ],
      "metadata": {
        "id": "cbPZQsC4BpNh"
      }
    },
    {
      "cell_type": "code",
      "source": [
        "print(np.max(gs.cv_results_['mean_test_score']))"
      ],
      "metadata": {
        "colab": {
          "base_uri": "https://localhost:8080/"
        },
        "id": "uXZkBPn1Bozu",
        "outputId": "970364e9-0281-4bfa-e612-e9e0cecaf1df"
      },
      "execution_count": null,
      "outputs": [
        {
          "output_type": "stream",
          "name": "stdout",
          "text": [
            "0.8683865773302731\n"
          ]
        }
      ]
    },
    {
      "cell_type": "markdown",
      "source": [
        "찾은 파라미터로 모델을 생성하고 테스트 점수 확인"
      ],
      "metadata": {
        "id": "K0HdvuWUBzfW"
      }
    },
    {
      "cell_type": "code",
      "source": [
        "dt = gs.best_estimator_ #자동으로 모델 생성\n",
        "print(dt.score(train_input, train_target))\n",
        "print(dt.score(test_input, test_target))"
      ],
      "metadata": {
        "colab": {
          "base_uri": "https://localhost:8080/"
        },
        "id": "vD_bO1Y-B24L",
        "outputId": "a0e629d3-852b-4e00-b406-41567b91a4d3"
      },
      "execution_count": null,
      "outputs": [
        {
          "output_type": "stream",
          "name": "stdout",
          "text": [
            "0.892053107562055\n",
            "0.8615384615384616\n"
          ]
        }
      ]
    },
    {
      "cell_type": "markdown",
      "source": [
        "##랜덤 서치"
      ],
      "metadata": {
        "id": "-5b0GEMrBzar"
      }
    },
    {
      "cell_type": "markdown",
      "source": [
        "매개변수의 값이 수치일 때 값의 범위나 간격을 미리 정하기 어려울 수 있음\n",
        "\n",
        "너무 많은 매개변수 조건이 있어 그리드 서치 수행 시간이 오래 걸릴 수 있음\n",
        "\n",
        "이럴 때 랜덤 서치를 사용하면 좋음\n",
        "\n",
        "매개변수 값의 목록이 아닌 매개변수를 샘플링할 수 있는 확률 분포 객체를 전달함"
      ],
      "metadata": {
        "id": "il0Jq5sb3nuG"
      }
    },
    {
      "cell_type": "markdown",
      "source": [
        "**사이파이 scipy**\n",
        "\n",
        "파이썬의 핵심 과학 라이브러리 중 하나\n",
        "\n",
        "적분, 보간, 선형 대수, 확률 등을 포함한 수치 계산 전용 라이브러리\n",
        "\n",
        "---\n",
        "\n",
        "stats 서브 패키지 사용\n",
        "\n",
        "통계학(statistics)과 관련된 패키지\n",
        "\n",
        "---\n",
        "\n",
        "uniform과 randint 클래스\n",
        "\n",
        "주어진 범위에서 고르게 값을 뽑음 -> 균등 분포에서 샘플링한다라고 함\n",
        "\n",
        "randiant는 정수값을 uniform은 실수값을 선택\n",
        "\n",
        "rvs: random variates"
      ],
      "metadata": {
        "id": "n-PTO_7C350h"
      }
    },
    {
      "cell_type": "code",
      "source": [
        "from scipy.stats import uniform, randint\n",
        "\n",
        "rgen = randint(0, 10) #0~9 랜덤 정수\n",
        "rgen.rvs(10)"
      ],
      "metadata": {
        "colab": {
          "base_uri": "https://localhost:8080/"
        },
        "id": "nw4mqpqyCLEJ",
        "outputId": "ab6e0b67-0c78-4c49-cf01-52d68e030d17"
      },
      "execution_count": null,
      "outputs": [
        {
          "output_type": "execute_result",
          "data": {
            "text/plain": [
              "array([0, 1, 7, 7, 7, 1, 5, 5, 2, 5])"
            ]
          },
          "metadata": {},
          "execution_count": 20
        }
      ]
    },
    {
      "cell_type": "markdown",
      "source": [
        "10번의 샘플링했기 때문에 고르게 샘플링되는 것 같아 보이지 않음\n",
        "\n",
        "그러나 샘플링 숫자를 늘리면 쉽게 확인 가능\n",
        "\n",
        "1000번 샘플링해서 각 숫자의 갯수 확인"
      ],
      "metadata": {
        "id": "KC0hVW9lCUKt"
      }
    },
    {
      "cell_type": "code",
      "source": [
        "np.unique(rgen.rvs(1000), return_counts=True) #unique한 값 출력 0은 112번 나옴"
      ],
      "metadata": {
        "colab": {
          "base_uri": "https://localhost:8080/"
        },
        "id": "CnLthFrwCinm",
        "outputId": "5fc01d1c-8986-497c-ca84-458f49a3c7c4"
      },
      "execution_count": null,
      "outputs": [
        {
          "output_type": "execute_result",
          "data": {
            "text/plain": [
              "(array([0, 1, 2, 3, 4, 5, 6, 7, 8, 9]),\n",
              " array([112, 108, 115,  72,  84, 108,  96, 105,  99, 101]))"
            ]
          },
          "metadata": {},
          "execution_count": 21
        }
      ]
    },
    {
      "cell_type": "markdown",
      "source": [
        "uniform의 사용법도 동일"
      ],
      "metadata": {
        "id": "b5mFbd23Cq0L"
      }
    },
    {
      "cell_type": "code",
      "source": [
        "ugen = uniform(0, 1)\n",
        "ugen.rvs(10)"
      ],
      "metadata": {
        "colab": {
          "base_uri": "https://localhost:8080/"
        },
        "id": "C2iS1AvXCudU",
        "outputId": "cc9575f0-5197-46e6-9627-713c3eb5e3ff"
      },
      "execution_count": null,
      "outputs": [
        {
          "output_type": "execute_result",
          "data": {
            "text/plain": [
              "array([0.10889272, 0.08573289, 0.13803558, 0.9285086 , 0.11735636,\n",
              "       0.12115177, 0.97487173, 0.41339401, 0.68985785, 0.88607606])"
            ]
          },
          "metadata": {},
          "execution_count": 22
        }
      ]
    },
    {
      "cell_type": "markdown",
      "source": [
        "**예제: 결정 트리 모델에서 min_impurity_decreas, max_depth, min_samples_split, min_samples_leaf 최적값 찾기**\n",
        "\n",
        "min_samples_leaf: 리프 노드가 되기 위한 최소 샘플의 수\n",
        "\n",
        "어떤 노드가 분할하여 만들어질 자식 노드의 샘플 수가 이 값보다 작으면 분할 안됨\n",
        "\n",
        "샘플링 횟수는 n_iter 매개변수에 지정"
      ],
      "metadata": {
        "id": "Dad-sb4n4fYF"
      }
    },
    {
      "cell_type": "code",
      "source": [
        "params = {'min_impurity_decrease': uniform(0.0001, 0.001),\n",
        "          'max_depth': randint(20, 50),\n",
        "          'min_samples_split': randint(2, 25),\n",
        "          'min_samples_leaf': randint(1, 25),\n",
        "          }\n",
        "from sklearn.model_selection import RandomizedSearchCV\n",
        "#dt = DecisionTreeClassifier(radom_state=42)\n",
        "gs = RandomizedSearchCV(DecisionTreeClassifier(random_state=42), params,\n",
        "                        n_iter=100, n_jobs=-1, random_state=42)\n",
        "#n_iter 반복횟수 지정 (이 범위 내에서 100번 선택하겠다.)\n",
        "gs.fit(train_input, train_target)\n",
        "print(gs.best_params_)"
      ],
      "metadata": {
        "colab": {
          "base_uri": "https://localhost:8080/"
        },
        "id": "fohZejsSC01U",
        "outputId": "76800ff0-1551-4265-a222-fa436aa4fda3"
      },
      "execution_count": null,
      "outputs": [
        {
          "output_type": "stream",
          "name": "stdout",
          "text": [
            "{'max_depth': 39, 'min_impurity_decrease': 0.00034102546602601173, 'min_samples_leaf': 7, 'min_samples_split': 13}\n"
          ]
        }
      ]
    },
    {
      "cell_type": "code",
      "source": [
        "print(np.max(gs.cv_results_['mean_test_score']))"
      ],
      "metadata": {
        "colab": {
          "base_uri": "https://localhost:8080/"
        },
        "id": "ABmOC0FVDYwI",
        "outputId": "4124302b-8bdc-45ec-aadc-3a5f5dd8c9fb"
      },
      "execution_count": null,
      "outputs": [
        {
          "output_type": "stream",
          "name": "stdout",
          "text": [
            "0.8695428296438884\n"
          ]
        }
      ]
    },
    {
      "cell_type": "markdown",
      "source": [
        "최적의 모델은 이미 전체 훈련 세트(train_input, train_target)로 훈련되어 best_estimator_에 저장"
      ],
      "metadata": {
        "id": "gkvAYah2DaES"
      }
    },
    {
      "cell_type": "code",
      "source": [
        "dt = gs.best_estimator_\n",
        "print(dt)\n",
        "print(dt.score(test_input, test_target))"
      ],
      "metadata": {
        "colab": {
          "base_uri": "https://localhost:8080/"
        },
        "id": "neqasEpADgIP",
        "outputId": "49a9f779-227a-4347-f725-8b094d3eefe4"
      },
      "execution_count": null,
      "outputs": [
        {
          "output_type": "stream",
          "name": "stdout",
          "text": [
            "DecisionTreeClassifier(max_depth=39,\n",
            "                       min_impurity_decrease=0.00034102546602601173,\n",
            "                       min_samples_leaf=7, min_samples_split=13,\n",
            "                       random_state=42)\n",
            "0.86\n"
          ]
        }
      ]
    },
    {
      "cell_type": "markdown",
      "source": [
        "주의\n",
        "\n",
        "교차검증, 그리드 서치, 랜덤 서치는 모델을 훈련하는 것이 아니라 검증하는 것임\n",
        "\n",
        "즉, 적절한 하이퍼파라미터를 찾는데 사용하야함\n",
        "\n",
        "찾은 하이퍼파라미터로 훈련(fit())을 하여 모델을 만들어야 함"
      ],
      "metadata": {
        "id": "vjS6S4ntDj6j"
      }
    },
    {
      "cell_type": "markdown",
      "source": [
        "랜덤서치 그리드 서치 검증세트 나눌 필요 없음"
      ],
      "metadata": {
        "id": "fYvoG0i3IDmX"
      }
    },
    {
      "cell_type": "markdown",
      "source": [
        "---"
      ],
      "metadata": {
        "id": "6YhROQUoDuC7"
      }
    },
    {
      "cell_type": "code",
      "source": [
        "gs = RandomizedSearchCV(DecisionTreeClassifier(splitter='random', random_state=42), params,\n",
        "                        n_iter=100, n_jobs=-1, random_state=42)\n",
        "gs.fit(train_input, train_target)"
      ],
      "metadata": {
        "colab": {
          "base_uri": "https://localhost:8080/",
          "height": 116
        },
        "id": "eVjxsVU7HL6R",
        "outputId": "8ccb3542-3171-4b10-b7c4-507b2976dc44"
      },
      "execution_count": null,
      "outputs": [
        {
          "output_type": "execute_result",
          "data": {
            "text/plain": [
              "RandomizedSearchCV(estimator=DecisionTreeClassifier(random_state=42,\n",
              "                                                    splitter='random'),\n",
              "                   n_iter=100, n_jobs=-1,\n",
              "                   param_distributions={'max_depth': <scipy.stats._distn_infrastructure.rv_discrete_frozen object at 0x7afa58d373a0>,\n",
              "                                        'min_impurity_decrease': <scipy.stats._distn_infrastructure.rv_continuous_frozen object at 0x7afa59823f40>,\n",
              "                                        'min_samples_leaf': <scipy.stats._distn_infrastructure.rv_discrete_frozen object at 0x7afa59823070>,\n",
              "                                        'min_samples_split': <scipy.stats._distn_infrastructure.rv_discrete_frozen object at 0x7afa58d348b0>},\n",
              "                   random_state=42)"
            ],
            "text/html": [
              "<style>#sk-container-id-1 {color: black;background-color: white;}#sk-container-id-1 pre{padding: 0;}#sk-container-id-1 div.sk-toggleable {background-color: white;}#sk-container-id-1 label.sk-toggleable__label {cursor: pointer;display: block;width: 100%;margin-bottom: 0;padding: 0.3em;box-sizing: border-box;text-align: center;}#sk-container-id-1 label.sk-toggleable__label-arrow:before {content: \"▸\";float: left;margin-right: 0.25em;color: #696969;}#sk-container-id-1 label.sk-toggleable__label-arrow:hover:before {color: black;}#sk-container-id-1 div.sk-estimator:hover label.sk-toggleable__label-arrow:before {color: black;}#sk-container-id-1 div.sk-toggleable__content {max-height: 0;max-width: 0;overflow: hidden;text-align: left;background-color: #f0f8ff;}#sk-container-id-1 div.sk-toggleable__content pre {margin: 0.2em;color: black;border-radius: 0.25em;background-color: #f0f8ff;}#sk-container-id-1 input.sk-toggleable__control:checked~div.sk-toggleable__content {max-height: 200px;max-width: 100%;overflow: auto;}#sk-container-id-1 input.sk-toggleable__control:checked~label.sk-toggleable__label-arrow:before {content: \"▾\";}#sk-container-id-1 div.sk-estimator input.sk-toggleable__control:checked~label.sk-toggleable__label {background-color: #d4ebff;}#sk-container-id-1 div.sk-label input.sk-toggleable__control:checked~label.sk-toggleable__label {background-color: #d4ebff;}#sk-container-id-1 input.sk-hidden--visually {border: 0;clip: rect(1px 1px 1px 1px);clip: rect(1px, 1px, 1px, 1px);height: 1px;margin: -1px;overflow: hidden;padding: 0;position: absolute;width: 1px;}#sk-container-id-1 div.sk-estimator {font-family: monospace;background-color: #f0f8ff;border: 1px dotted black;border-radius: 0.25em;box-sizing: border-box;margin-bottom: 0.5em;}#sk-container-id-1 div.sk-estimator:hover {background-color: #d4ebff;}#sk-container-id-1 div.sk-parallel-item::after {content: \"\";width: 100%;border-bottom: 1px solid gray;flex-grow: 1;}#sk-container-id-1 div.sk-label:hover label.sk-toggleable__label {background-color: #d4ebff;}#sk-container-id-1 div.sk-serial::before {content: \"\";position: absolute;border-left: 1px solid gray;box-sizing: border-box;top: 0;bottom: 0;left: 50%;z-index: 0;}#sk-container-id-1 div.sk-serial {display: flex;flex-direction: column;align-items: center;background-color: white;padding-right: 0.2em;padding-left: 0.2em;position: relative;}#sk-container-id-1 div.sk-item {position: relative;z-index: 1;}#sk-container-id-1 div.sk-parallel {display: flex;align-items: stretch;justify-content: center;background-color: white;position: relative;}#sk-container-id-1 div.sk-item::before, #sk-container-id-1 div.sk-parallel-item::before {content: \"\";position: absolute;border-left: 1px solid gray;box-sizing: border-box;top: 0;bottom: 0;left: 50%;z-index: -1;}#sk-container-id-1 div.sk-parallel-item {display: flex;flex-direction: column;z-index: 1;position: relative;background-color: white;}#sk-container-id-1 div.sk-parallel-item:first-child::after {align-self: flex-end;width: 50%;}#sk-container-id-1 div.sk-parallel-item:last-child::after {align-self: flex-start;width: 50%;}#sk-container-id-1 div.sk-parallel-item:only-child::after {width: 0;}#sk-container-id-1 div.sk-dashed-wrapped {border: 1px dashed gray;margin: 0 0.4em 0.5em 0.4em;box-sizing: border-box;padding-bottom: 0.4em;background-color: white;}#sk-container-id-1 div.sk-label label {font-family: monospace;font-weight: bold;display: inline-block;line-height: 1.2em;}#sk-container-id-1 div.sk-label-container {text-align: center;}#sk-container-id-1 div.sk-container {/* jupyter's `normalize.less` sets `[hidden] { display: none; }` but bootstrap.min.css set `[hidden] { display: none !important; }` so we also need the `!important` here to be able to override the default hidden behavior on the sphinx rendered scikit-learn.org. See: https://github.com/scikit-learn/scikit-learn/issues/21755 */display: inline-block !important;position: relative;}#sk-container-id-1 div.sk-text-repr-fallback {display: none;}</style><div id=\"sk-container-id-1\" class=\"sk-top-container\"><div class=\"sk-text-repr-fallback\"><pre>RandomizedSearchCV(estimator=DecisionTreeClassifier(random_state=42,\n",
              "                                                    splitter=&#x27;random&#x27;),\n",
              "                   n_iter=100, n_jobs=-1,\n",
              "                   param_distributions={&#x27;max_depth&#x27;: &lt;scipy.stats._distn_infrastructure.rv_discrete_frozen object at 0x7afa58d373a0&gt;,\n",
              "                                        &#x27;min_impurity_decrease&#x27;: &lt;scipy.stats._distn_infrastructure.rv_continuous_frozen object at 0x7afa59823f40&gt;,\n",
              "                                        &#x27;min_samples_leaf&#x27;: &lt;scipy.stats._distn_infrastructure.rv_discrete_frozen object at 0x7afa59823070&gt;,\n",
              "                                        &#x27;min_samples_split&#x27;: &lt;scipy.stats._distn_infrastructure.rv_discrete_frozen object at 0x7afa58d348b0&gt;},\n",
              "                   random_state=42)</pre><b>In a Jupyter environment, please rerun this cell to show the HTML representation or trust the notebook. <br />On GitHub, the HTML representation is unable to render, please try loading this page with nbviewer.org.</b></div><div class=\"sk-container\" hidden><div class=\"sk-item sk-dashed-wrapped\"><div class=\"sk-label-container\"><div class=\"sk-label sk-toggleable\"><input class=\"sk-toggleable__control sk-hidden--visually\" id=\"sk-estimator-id-1\" type=\"checkbox\" ><label for=\"sk-estimator-id-1\" class=\"sk-toggleable__label sk-toggleable__label-arrow\">RandomizedSearchCV</label><div class=\"sk-toggleable__content\"><pre>RandomizedSearchCV(estimator=DecisionTreeClassifier(random_state=42,\n",
              "                                                    splitter=&#x27;random&#x27;),\n",
              "                   n_iter=100, n_jobs=-1,\n",
              "                   param_distributions={&#x27;max_depth&#x27;: &lt;scipy.stats._distn_infrastructure.rv_discrete_frozen object at 0x7afa58d373a0&gt;,\n",
              "                                        &#x27;min_impurity_decrease&#x27;: &lt;scipy.stats._distn_infrastructure.rv_continuous_frozen object at 0x7afa59823f40&gt;,\n",
              "                                        &#x27;min_samples_leaf&#x27;: &lt;scipy.stats._distn_infrastructure.rv_discrete_frozen object at 0x7afa59823070&gt;,\n",
              "                                        &#x27;min_samples_split&#x27;: &lt;scipy.stats._distn_infrastructure.rv_discrete_frozen object at 0x7afa58d348b0&gt;},\n",
              "                   random_state=42)</pre></div></div></div><div class=\"sk-parallel\"><div class=\"sk-parallel-item\"><div class=\"sk-item\"><div class=\"sk-label-container\"><div class=\"sk-label sk-toggleable\"><input class=\"sk-toggleable__control sk-hidden--visually\" id=\"sk-estimator-id-2\" type=\"checkbox\" ><label for=\"sk-estimator-id-2\" class=\"sk-toggleable__label sk-toggleable__label-arrow\">estimator: DecisionTreeClassifier</label><div class=\"sk-toggleable__content\"><pre>DecisionTreeClassifier(random_state=42, splitter=&#x27;random&#x27;)</pre></div></div></div><div class=\"sk-serial\"><div class=\"sk-item\"><div class=\"sk-estimator sk-toggleable\"><input class=\"sk-toggleable__control sk-hidden--visually\" id=\"sk-estimator-id-3\" type=\"checkbox\" ><label for=\"sk-estimator-id-3\" class=\"sk-toggleable__label sk-toggleable__label-arrow\">DecisionTreeClassifier</label><div class=\"sk-toggleable__content\"><pre>DecisionTreeClassifier(random_state=42, splitter=&#x27;random&#x27;)</pre></div></div></div></div></div></div></div></div></div></div>"
            ]
          },
          "metadata": {},
          "execution_count": 27
        }
      ]
    },
    {
      "cell_type": "code",
      "source": [
        "print(gs.best_params_)\n",
        "print(np.max(gs.cv_results_['mean_test_score']))\n",
        "\n",
        "dt = gs.best_estimator_\n",
        "print(dt.score(test_input, test_target))"
      ],
      "metadata": {
        "id": "FomJULHxJqPJ",
        "outputId": "f268d115-cfcf-4ecf-950b-d502a7d599cb",
        "colab": {
          "base_uri": "https://localhost:8080/"
        }
      },
      "execution_count": null,
      "outputs": [
        {
          "output_type": "stream",
          "name": "stdout",
          "text": [
            "{'max_depth': 43, 'min_impurity_decrease': 0.00011407982271508446, 'min_samples_leaf': 19, 'min_samples_split': 18}\n",
            "0.8458726956392981\n",
            "0.786923076923077\n"
          ]
        }
      ]
    }
  ]
}