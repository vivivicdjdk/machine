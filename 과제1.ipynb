{
  "cells": [
    {
      "cell_type": "markdown",
      "metadata": {
        "id": "view-in-github",
        "colab_type": "text"
      },
      "source": [
        "<a href=\"https://colab.research.google.com/github/vivivicdjdk/machine/blob/main/%EA%B3%BC%EC%A0%9C1.ipynb\" target=\"_parent\"><img src=\"https://colab.research.google.com/assets/colab-badge.svg\" alt=\"Open In Colab\"/></a>"
      ]
    },
    {
      "cell_type": "markdown",
      "metadata": {
        "id": "kW9aqglZi1c8"
      },
      "source": [
        "#타이타닉"
      ]
    },
    {
      "cell_type": "markdown",
      "metadata": {
        "id": "PyQo_tt5kE4q"
      },
      "source": [
        "학습 데이터(train.csv): 승객의 생존 여부 정보\n",
        "\n",
        "테스트 데이터(test.csv): 승객의 생존 여부 정보 x\n",
        "\n",
        "이 정보가 빠진 테스트 데이터를 통해 승객의 생존 여부를 예측"
      ]
    },
    {
      "cell_type": "markdown",
      "metadata": {
        "id": "6UveXI21QOqx"
      },
      "source": [
        "##데이터 준비"
      ]
    },
    {
      "cell_type": "markdown",
      "metadata": {
        "id": "UOeQFR6jRTS5"
      },
      "source": [
        "### 데이터 입력"
      ]
    },
    {
      "cell_type": "code",
      "execution_count": 1,
      "metadata": {
        "colab": {
          "base_uri": "https://localhost:8080/",
          "height": 206
        },
        "id": "rJu3bnBiix_R",
        "outputId": "edf21eb0-9aa2-4e5d-a93d-f95bc02ac0fd"
      },
      "outputs": [
        {
          "output_type": "execute_result",
          "data": {
            "text/plain": [
              "   PassengerId  Survived  Pclass  \\\n",
              "0            1         0       3   \n",
              "1            2         1       1   \n",
              "2            3         1       3   \n",
              "3            4         1       1   \n",
              "4            5         0       3   \n",
              "\n",
              "                                                Name     Sex   Age  SibSp  \\\n",
              "0                            Braund, Mr. Owen Harris    male  22.0      1   \n",
              "1  Cumings, Mrs. John Bradley (Florence Briggs Th...  female  38.0      1   \n",
              "2                             Heikkinen, Miss. Laina  female  26.0      0   \n",
              "3       Futrelle, Mrs. Jacques Heath (Lily May Peel)  female  35.0      1   \n",
              "4                           Allen, Mr. William Henry    male  35.0      0   \n",
              "\n",
              "   Parch            Ticket     Fare Cabin Embarked  \n",
              "0      0         A/5 21171   7.2500   NaN        S  \n",
              "1      0          PC 17599  71.2833   C85        C  \n",
              "2      0  STON/O2. 3101282   7.9250   NaN        S  \n",
              "3      0            113803  53.1000  C123        S  \n",
              "4      0            373450   8.0500   NaN        S  "
            ],
            "text/html": [
              "\n",
              "  <div id=\"df-bab03cff-7a6c-4e4a-a963-148bff8768aa\" class=\"colab-df-container\">\n",
              "    <div>\n",
              "<style scoped>\n",
              "    .dataframe tbody tr th:only-of-type {\n",
              "        vertical-align: middle;\n",
              "    }\n",
              "\n",
              "    .dataframe tbody tr th {\n",
              "        vertical-align: top;\n",
              "    }\n",
              "\n",
              "    .dataframe thead th {\n",
              "        text-align: right;\n",
              "    }\n",
              "</style>\n",
              "<table border=\"1\" class=\"dataframe\">\n",
              "  <thead>\n",
              "    <tr style=\"text-align: right;\">\n",
              "      <th></th>\n",
              "      <th>PassengerId</th>\n",
              "      <th>Survived</th>\n",
              "      <th>Pclass</th>\n",
              "      <th>Name</th>\n",
              "      <th>Sex</th>\n",
              "      <th>Age</th>\n",
              "      <th>SibSp</th>\n",
              "      <th>Parch</th>\n",
              "      <th>Ticket</th>\n",
              "      <th>Fare</th>\n",
              "      <th>Cabin</th>\n",
              "      <th>Embarked</th>\n",
              "    </tr>\n",
              "  </thead>\n",
              "  <tbody>\n",
              "    <tr>\n",
              "      <th>0</th>\n",
              "      <td>1</td>\n",
              "      <td>0</td>\n",
              "      <td>3</td>\n",
              "      <td>Braund, Mr. Owen Harris</td>\n",
              "      <td>male</td>\n",
              "      <td>22.0</td>\n",
              "      <td>1</td>\n",
              "      <td>0</td>\n",
              "      <td>A/5 21171</td>\n",
              "      <td>7.2500</td>\n",
              "      <td>NaN</td>\n",
              "      <td>S</td>\n",
              "    </tr>\n",
              "    <tr>\n",
              "      <th>1</th>\n",
              "      <td>2</td>\n",
              "      <td>1</td>\n",
              "      <td>1</td>\n",
              "      <td>Cumings, Mrs. John Bradley (Florence Briggs Th...</td>\n",
              "      <td>female</td>\n",
              "      <td>38.0</td>\n",
              "      <td>1</td>\n",
              "      <td>0</td>\n",
              "      <td>PC 17599</td>\n",
              "      <td>71.2833</td>\n",
              "      <td>C85</td>\n",
              "      <td>C</td>\n",
              "    </tr>\n",
              "    <tr>\n",
              "      <th>2</th>\n",
              "      <td>3</td>\n",
              "      <td>1</td>\n",
              "      <td>3</td>\n",
              "      <td>Heikkinen, Miss. Laina</td>\n",
              "      <td>female</td>\n",
              "      <td>26.0</td>\n",
              "      <td>0</td>\n",
              "      <td>0</td>\n",
              "      <td>STON/O2. 3101282</td>\n",
              "      <td>7.9250</td>\n",
              "      <td>NaN</td>\n",
              "      <td>S</td>\n",
              "    </tr>\n",
              "    <tr>\n",
              "      <th>3</th>\n",
              "      <td>4</td>\n",
              "      <td>1</td>\n",
              "      <td>1</td>\n",
              "      <td>Futrelle, Mrs. Jacques Heath (Lily May Peel)</td>\n",
              "      <td>female</td>\n",
              "      <td>35.0</td>\n",
              "      <td>1</td>\n",
              "      <td>0</td>\n",
              "      <td>113803</td>\n",
              "      <td>53.1000</td>\n",
              "      <td>C123</td>\n",
              "      <td>S</td>\n",
              "    </tr>\n",
              "    <tr>\n",
              "      <th>4</th>\n",
              "      <td>5</td>\n",
              "      <td>0</td>\n",
              "      <td>3</td>\n",
              "      <td>Allen, Mr. William Henry</td>\n",
              "      <td>male</td>\n",
              "      <td>35.0</td>\n",
              "      <td>0</td>\n",
              "      <td>0</td>\n",
              "      <td>373450</td>\n",
              "      <td>8.0500</td>\n",
              "      <td>NaN</td>\n",
              "      <td>S</td>\n",
              "    </tr>\n",
              "  </tbody>\n",
              "</table>\n",
              "</div>\n",
              "    <div class=\"colab-df-buttons\">\n",
              "\n",
              "  <div class=\"colab-df-container\">\n",
              "    <button class=\"colab-df-convert\" onclick=\"convertToInteractive('df-bab03cff-7a6c-4e4a-a963-148bff8768aa')\"\n",
              "            title=\"Convert this dataframe to an interactive table.\"\n",
              "            style=\"display:none;\">\n",
              "\n",
              "  <svg xmlns=\"http://www.w3.org/2000/svg\" height=\"24px\" viewBox=\"0 -960 960 960\">\n",
              "    <path d=\"M120-120v-720h720v720H120Zm60-500h600v-160H180v160Zm220 220h160v-160H400v160Zm0 220h160v-160H400v160ZM180-400h160v-160H180v160Zm440 0h160v-160H620v160ZM180-180h160v-160H180v160Zm440 0h160v-160H620v160Z\"/>\n",
              "  </svg>\n",
              "    </button>\n",
              "\n",
              "  <style>\n",
              "    .colab-df-container {\n",
              "      display:flex;\n",
              "      gap: 12px;\n",
              "    }\n",
              "\n",
              "    .colab-df-convert {\n",
              "      background-color: #E8F0FE;\n",
              "      border: none;\n",
              "      border-radius: 50%;\n",
              "      cursor: pointer;\n",
              "      display: none;\n",
              "      fill: #1967D2;\n",
              "      height: 32px;\n",
              "      padding: 0 0 0 0;\n",
              "      width: 32px;\n",
              "    }\n",
              "\n",
              "    .colab-df-convert:hover {\n",
              "      background-color: #E2EBFA;\n",
              "      box-shadow: 0px 1px 2px rgba(60, 64, 67, 0.3), 0px 1px 3px 1px rgba(60, 64, 67, 0.15);\n",
              "      fill: #174EA6;\n",
              "    }\n",
              "\n",
              "    .colab-df-buttons div {\n",
              "      margin-bottom: 4px;\n",
              "    }\n",
              "\n",
              "    [theme=dark] .colab-df-convert {\n",
              "      background-color: #3B4455;\n",
              "      fill: #D2E3FC;\n",
              "    }\n",
              "\n",
              "    [theme=dark] .colab-df-convert:hover {\n",
              "      background-color: #434B5C;\n",
              "      box-shadow: 0px 1px 3px 1px rgba(0, 0, 0, 0.15);\n",
              "      filter: drop-shadow(0px 1px 2px rgba(0, 0, 0, 0.3));\n",
              "      fill: #FFFFFF;\n",
              "    }\n",
              "  </style>\n",
              "\n",
              "    <script>\n",
              "      const buttonEl =\n",
              "        document.querySelector('#df-bab03cff-7a6c-4e4a-a963-148bff8768aa button.colab-df-convert');\n",
              "      buttonEl.style.display =\n",
              "        google.colab.kernel.accessAllowed ? 'block' : 'none';\n",
              "\n",
              "      async function convertToInteractive(key) {\n",
              "        const element = document.querySelector('#df-bab03cff-7a6c-4e4a-a963-148bff8768aa');\n",
              "        const dataTable =\n",
              "          await google.colab.kernel.invokeFunction('convertToInteractive',\n",
              "                                                    [key], {});\n",
              "        if (!dataTable) return;\n",
              "\n",
              "        const docLinkHtml = 'Like what you see? Visit the ' +\n",
              "          '<a target=\"_blank\" href=https://colab.research.google.com/notebooks/data_table.ipynb>data table notebook</a>'\n",
              "          + ' to learn more about interactive tables.';\n",
              "        element.innerHTML = '';\n",
              "        dataTable['output_type'] = 'display_data';\n",
              "        await google.colab.output.renderOutput(dataTable, element);\n",
              "        const docLink = document.createElement('div');\n",
              "        docLink.innerHTML = docLinkHtml;\n",
              "        element.appendChild(docLink);\n",
              "      }\n",
              "    </script>\n",
              "  </div>\n",
              "\n",
              "\n",
              "<div id=\"df-adaf7a6d-84e7-42e1-a976-b8b538cebab5\">\n",
              "  <button class=\"colab-df-quickchart\" onclick=\"quickchart('df-adaf7a6d-84e7-42e1-a976-b8b538cebab5')\"\n",
              "            title=\"Suggest charts.\"\n",
              "            style=\"display:none;\">\n",
              "\n",
              "<svg xmlns=\"http://www.w3.org/2000/svg\" height=\"24px\"viewBox=\"0 0 24 24\"\n",
              "     width=\"24px\">\n",
              "    <g>\n",
              "        <path d=\"M19 3H5c-1.1 0-2 .9-2 2v14c0 1.1.9 2 2 2h14c1.1 0 2-.9 2-2V5c0-1.1-.9-2-2-2zM9 17H7v-7h2v7zm4 0h-2V7h2v10zm4 0h-2v-4h2v4z\"/>\n",
              "    </g>\n",
              "</svg>\n",
              "  </button>\n",
              "\n",
              "<style>\n",
              "  .colab-df-quickchart {\n",
              "      --bg-color: #E8F0FE;\n",
              "      --fill-color: #1967D2;\n",
              "      --hover-bg-color: #E2EBFA;\n",
              "      --hover-fill-color: #174EA6;\n",
              "      --disabled-fill-color: #AAA;\n",
              "      --disabled-bg-color: #DDD;\n",
              "  }\n",
              "\n",
              "  [theme=dark] .colab-df-quickchart {\n",
              "      --bg-color: #3B4455;\n",
              "      --fill-color: #D2E3FC;\n",
              "      --hover-bg-color: #434B5C;\n",
              "      --hover-fill-color: #FFFFFF;\n",
              "      --disabled-bg-color: #3B4455;\n",
              "      --disabled-fill-color: #666;\n",
              "  }\n",
              "\n",
              "  .colab-df-quickchart {\n",
              "    background-color: var(--bg-color);\n",
              "    border: none;\n",
              "    border-radius: 50%;\n",
              "    cursor: pointer;\n",
              "    display: none;\n",
              "    fill: var(--fill-color);\n",
              "    height: 32px;\n",
              "    padding: 0;\n",
              "    width: 32px;\n",
              "  }\n",
              "\n",
              "  .colab-df-quickchart:hover {\n",
              "    background-color: var(--hover-bg-color);\n",
              "    box-shadow: 0 1px 2px rgba(60, 64, 67, 0.3), 0 1px 3px 1px rgba(60, 64, 67, 0.15);\n",
              "    fill: var(--button-hover-fill-color);\n",
              "  }\n",
              "\n",
              "  .colab-df-quickchart-complete:disabled,\n",
              "  .colab-df-quickchart-complete:disabled:hover {\n",
              "    background-color: var(--disabled-bg-color);\n",
              "    fill: var(--disabled-fill-color);\n",
              "    box-shadow: none;\n",
              "  }\n",
              "\n",
              "  .colab-df-spinner {\n",
              "    border: 2px solid var(--fill-color);\n",
              "    border-color: transparent;\n",
              "    border-bottom-color: var(--fill-color);\n",
              "    animation:\n",
              "      spin 1s steps(1) infinite;\n",
              "  }\n",
              "\n",
              "  @keyframes spin {\n",
              "    0% {\n",
              "      border-color: transparent;\n",
              "      border-bottom-color: var(--fill-color);\n",
              "      border-left-color: var(--fill-color);\n",
              "    }\n",
              "    20% {\n",
              "      border-color: transparent;\n",
              "      border-left-color: var(--fill-color);\n",
              "      border-top-color: var(--fill-color);\n",
              "    }\n",
              "    30% {\n",
              "      border-color: transparent;\n",
              "      border-left-color: var(--fill-color);\n",
              "      border-top-color: var(--fill-color);\n",
              "      border-right-color: var(--fill-color);\n",
              "    }\n",
              "    40% {\n",
              "      border-color: transparent;\n",
              "      border-right-color: var(--fill-color);\n",
              "      border-top-color: var(--fill-color);\n",
              "    }\n",
              "    60% {\n",
              "      border-color: transparent;\n",
              "      border-right-color: var(--fill-color);\n",
              "    }\n",
              "    80% {\n",
              "      border-color: transparent;\n",
              "      border-right-color: var(--fill-color);\n",
              "      border-bottom-color: var(--fill-color);\n",
              "    }\n",
              "    90% {\n",
              "      border-color: transparent;\n",
              "      border-bottom-color: var(--fill-color);\n",
              "    }\n",
              "  }\n",
              "</style>\n",
              "\n",
              "  <script>\n",
              "    async function quickchart(key) {\n",
              "      const quickchartButtonEl =\n",
              "        document.querySelector('#' + key + ' button');\n",
              "      quickchartButtonEl.disabled = true;  // To prevent multiple clicks.\n",
              "      quickchartButtonEl.classList.add('colab-df-spinner');\n",
              "      try {\n",
              "        const charts = await google.colab.kernel.invokeFunction(\n",
              "            'suggestCharts', [key], {});\n",
              "      } catch (error) {\n",
              "        console.error('Error during call to suggestCharts:', error);\n",
              "      }\n",
              "      quickchartButtonEl.classList.remove('colab-df-spinner');\n",
              "      quickchartButtonEl.classList.add('colab-df-quickchart-complete');\n",
              "    }\n",
              "    (() => {\n",
              "      let quickchartButtonEl =\n",
              "        document.querySelector('#df-adaf7a6d-84e7-42e1-a976-b8b538cebab5 button');\n",
              "      quickchartButtonEl.style.display =\n",
              "        google.colab.kernel.accessAllowed ? 'block' : 'none';\n",
              "    })();\n",
              "  </script>\n",
              "</div>\n",
              "    </div>\n",
              "  </div>\n"
            ]
          },
          "metadata": {},
          "execution_count": 1
        }
      ],
      "source": [
        "import pandas as pd\n",
        "train = pd.read_csv('/content/drive/MyDrive/Colab Notebooks/titanic/train.csv')\n",
        "test = pd.read_csv('/content/drive/MyDrive/Colab Notebooks/titanic/test.csv')\n",
        "\n",
        "train.head()"
      ]
    },
    {
      "cell_type": "code",
      "execution_count": 2,
      "metadata": {
        "colab": {
          "base_uri": "https://localhost:8080/"
        },
        "id": "35GyhD3ollFh",
        "outputId": "657bd4f2-c09e-4afd-c44d-5936dd000a32"
      },
      "outputs": [
        {
          "output_type": "stream",
          "name": "stdout",
          "text": [
            "<class 'pandas.core.frame.DataFrame'>\n",
            "RangeIndex: 891 entries, 0 to 890\n",
            "Data columns (total 12 columns):\n",
            " #   Column       Non-Null Count  Dtype  \n",
            "---  ------       --------------  -----  \n",
            " 0   PassengerId  891 non-null    int64  \n",
            " 1   Survived     891 non-null    int64  \n",
            " 2   Pclass       891 non-null    int64  \n",
            " 3   Name         891 non-null    object \n",
            " 4   Sex          891 non-null    object \n",
            " 5   Age          714 non-null    float64\n",
            " 6   SibSp        891 non-null    int64  \n",
            " 7   Parch        891 non-null    int64  \n",
            " 8   Ticket       891 non-null    object \n",
            " 9   Fare         891 non-null    float64\n",
            " 10  Cabin        204 non-null    object \n",
            " 11  Embarked     889 non-null    object \n",
            "dtypes: float64(2), int64(5), object(5)\n",
            "memory usage: 83.7+ KB\n",
            "-----------------------------------------\n",
            "<class 'pandas.core.frame.DataFrame'>\n",
            "RangeIndex: 418 entries, 0 to 417\n",
            "Data columns (total 11 columns):\n",
            " #   Column       Non-Null Count  Dtype  \n",
            "---  ------       --------------  -----  \n",
            " 0   PassengerId  418 non-null    int64  \n",
            " 1   Pclass       418 non-null    int64  \n",
            " 2   Name         418 non-null    object \n",
            " 3   Sex          418 non-null    object \n",
            " 4   Age          332 non-null    float64\n",
            " 5   SibSp        418 non-null    int64  \n",
            " 6   Parch        418 non-null    int64  \n",
            " 7   Ticket       418 non-null    object \n",
            " 8   Fare         417 non-null    float64\n",
            " 9   Cabin        91 non-null     object \n",
            " 10  Embarked     418 non-null    object \n",
            "dtypes: float64(2), int64(4), object(5)\n",
            "memory usage: 36.0+ KB\n"
          ]
        }
      ],
      "source": [
        "train.info()\n",
        "print('-----------------------------------------')\n",
        "test.info()"
      ]
    },
    {
      "cell_type": "markdown",
      "metadata": {
        "id": "44Q_rwF8RZtr"
      },
      "source": [
        "## 데이터 전처리"
      ]
    },
    {
      "cell_type": "code",
      "execution_count": 3,
      "metadata": {
        "id": "QioswxBDT8PE"
      },
      "outputs": [],
      "source": [
        "train_test_data = [train, test]"
      ]
    },
    {
      "cell_type": "markdown",
      "metadata": {
        "id": "iR9E-d74yznJ"
      },
      "source": [
        "## Name(이름)"
      ]
    },
    {
      "cell_type": "markdown",
      "metadata": {
        "id": "_REl9yq6znnl"
      },
      "source": [
        "이름에서 호칭 추출"
      ]
    },
    {
      "cell_type": "code",
      "execution_count": 4,
      "metadata": {
        "id": "mMQzCAhIyuDv"
      },
      "outputs": [],
      "source": [
        "for dataset in train_test_data:\n",
        "    dataset['Title'] = dataset['Name'].str.extract('([\\w]+)\\.', expand=False)"
      ]
    },
    {
      "cell_type": "code",
      "execution_count": 5,
      "metadata": {
        "colab": {
          "base_uri": "https://localhost:8080/"
        },
        "id": "lbPRTGOXzRkr",
        "outputId": "1d2631ab-2ea9-4cb7-fde9-f9cdf1ad3b02"
      },
      "outputs": [
        {
          "output_type": "stream",
          "name": "stdout",
          "text": [
            "['Mr' 'Mrs' 'Miss' 'Master' 'Don' 'Rev' 'Dr' 'Mme' 'Ms' 'Major' 'Lady'\n",
            " 'Sir' 'Mlle' 'Col' 'Capt' 'Countess' 'Jonkheer']\n"
          ]
        }
      ],
      "source": [
        "print(pd.unique(train['Title']))"
      ]
    },
    {
      "cell_type": "markdown",
      "metadata": {
        "id": "UHh5CIQx0C3V"
      },
      "source": [
        "각 호칭들을 숫자에 매핑"
      ]
    },
    {
      "cell_type": "code",
      "execution_count": 6,
      "metadata": {
        "id": "4zmzF7XkzphV"
      },
      "outputs": [],
      "source": [
        "for dataset in train_test_data:\n",
        "    dataset['Title'] = dataset['Title'].apply(lambda x: 0 if x==\"Mr\" else 1 if x==\"Miss\" else 2 if x==\"Mrs\" else 3 if x==\"Master\" else 4)"
      ]
    },
    {
      "cell_type": "markdown",
      "metadata": {
        "id": "drjuqdcHdfsL"
      },
      "source": [
        "### Age(나이)"
      ]
    },
    {
      "cell_type": "code",
      "execution_count": 7,
      "metadata": {
        "id": "-g1h1OLLVuln"
      },
      "outputs": [],
      "source": [
        "for dataset in train_test_data:\n",
        "  # Age의 결측치를 평균값으로 채움\n",
        "  for dataset in train_test_data:\n",
        "    dataset['Age'].fillna(dataset.groupby(\"Title\")[\"Age\"].transform(\"mean\"), inplace=True)\n",
        "  # Age의 범주를 5개로 지정\n",
        "  dataset['Agebin'] = pd.cut(dataset['Age'], 5, labels=[0,1,2,3,4])"
      ]
    },
    {
      "cell_type": "markdown",
      "metadata": {
        "id": "nA-lZer_Rqgw"
      },
      "source": [
        "### Sex(성별)\n"
      ]
    },
    {
      "cell_type": "code",
      "execution_count": 8,
      "metadata": {
        "id": "bBYzbtV7R83d"
      },
      "outputs": [],
      "source": [
        "sex_mapping = {'male': 0, 'female': 1}\n",
        "\n",
        "for dataset in train_test_data:\n",
        "  dataset['Sex'] = dataset['Sex'].map(sex_mapping)"
      ]
    },
    {
      "cell_type": "markdown",
      "metadata": {
        "id": "9khcs7pWSflh"
      },
      "source": [
        "### SibSp(형제자매)와 Parch(부모자녀)"
      ]
    },
    {
      "cell_type": "code",
      "execution_count": 9,
      "metadata": {
        "id": "rLzb9PNmTKzW"
      },
      "outputs": [],
      "source": [
        "for dataset in train_test_data:\n",
        "  # 가족 수 = 형제자매 + 부모님 + 자녀 + 본인\n",
        "  dataset['FamilySize'] = dataset['SibSp'] + dataset['Parch'] + 1\n",
        "  dataset['IsAlone'] =1\n",
        "  # 동승자 여부 판단(가족 수 > 1이면 동승자 있음)\n",
        "  dataset.loc[dataset['FamilySize']>1, 'IsAlone'] = 0"
      ]
    },
    {
      "cell_type": "markdown",
      "metadata": {
        "id": "QfjBYEZ0VHsu"
      },
      "source": [
        "### Embarked(탑승 지역)"
      ]
    },
    {
      "cell_type": "markdown",
      "metadata": {
        "id": "bmq1s9hzpsWa"
      },
      "source": [
        "훈련 데이터의 Embarked의 결측치를 최빈값으로 채움"
      ]
    },
    {
      "cell_type": "code",
      "execution_count": 10,
      "metadata": {
        "id": "KkMNyrfCeAeX"
      },
      "outputs": [],
      "source": [
        "train['Embarked']=train['Embarked'].fillna(train['Embarked'].value_counts().index[0])"
      ]
    },
    {
      "cell_type": "code",
      "execution_count": 11,
      "metadata": {
        "id": "H4ECv_-aVfh4"
      },
      "outputs": [],
      "source": [
        "embarked_mapping = {'S':0, 'C':1, 'Q':2}\n",
        "\n",
        "for dataset in train_test_data:\n",
        "  dataset['Embarked'] = dataset['Embarked'].map(embarked_mapping)"
      ]
    },
    {
      "cell_type": "markdown",
      "metadata": {
        "id": "ni3K9pD0YhUd"
      },
      "source": [
        "### Fare(탑승 요금)"
      ]
    },
    {
      "cell_type": "markdown",
      "metadata": {
        "id": "HAyTn_MrqQM3"
      },
      "source": [
        "테스트세트의 Fare 결측치 행 삭제"
      ]
    },
    {
      "cell_type": "code",
      "execution_count": 12,
      "metadata": {
        "id": "BscebkXTqL9i"
      },
      "outputs": [],
      "source": [
        "for dataset in train_test_data:\n",
        "  dataset['Farebin'] = pd.qcut(dataset['Fare'], 4, labels=[0,1,2,3])\n",
        "test = test.dropna(subset=['Fare'], axis=0)"
      ]
    },
    {
      "cell_type": "markdown",
      "metadata": {
        "id": "rPiLPIcCfQmy"
      },
      "source": [
        "### Cabin(방 번호)"
      ]
    },
    {
      "cell_type": "markdown",
      "metadata": {
        "id": "mHeQjlCRexEG"
      },
      "source": [
        "유실율이 높으므로 열 전체를 삭제"
      ]
    },
    {
      "cell_type": "markdown",
      "metadata": {
        "id": "3eKE4BuEce6h"
      },
      "source": [
        "전처리가 끝났거나 훈련에 이용하지 않을 데이터 삭제"
      ]
    },
    {
      "cell_type": "code",
      "execution_count": 13,
      "metadata": {
        "id": "K0NDhsX2cazk"
      },
      "outputs": [],
      "source": [
        "drop_column=['Name','Age','Fare','SibSp','Parch','Ticket','Cabin']\n",
        "train = train.drop(drop_column, axis=1)\n",
        "test = test.drop(drop_column, axis=1)"
      ]
    },
    {
      "cell_type": "code",
      "execution_count": 14,
      "metadata": {
        "colab": {
          "base_uri": "https://localhost:8080/"
        },
        "id": "fLgTKSiTgNUt",
        "outputId": "281c236d-7c38-42dc-8951-efef972808a7"
      },
      "outputs": [
        {
          "output_type": "stream",
          "name": "stdout",
          "text": [
            "<class 'pandas.core.frame.DataFrame'>\n",
            "RangeIndex: 891 entries, 0 to 890\n",
            "Data columns (total 9 columns):\n",
            " #   Column       Non-Null Count  Dtype   \n",
            "---  ------       --------------  -----   \n",
            " 0   PassengerId  891 non-null    int64   \n",
            " 1   Survived     891 non-null    int64   \n",
            " 2   Pclass       891 non-null    int64   \n",
            " 3   Sex          891 non-null    int64   \n",
            " 4   Embarked     891 non-null    int64   \n",
            " 5   Title        891 non-null    int64   \n",
            " 6   FamilySize   891 non-null    int64   \n",
            " 7   IsAlone      891 non-null    int64   \n",
            " 8   Farebin      891 non-null    category\n",
            "dtypes: category(1), int64(8)\n",
            "memory usage: 56.9 KB\n",
            "-----------------------------------------\n",
            "<class 'pandas.core.frame.DataFrame'>\n",
            "Int64Index: 417 entries, 0 to 417\n",
            "Data columns (total 9 columns):\n",
            " #   Column       Non-Null Count  Dtype   \n",
            "---  ------       --------------  -----   \n",
            " 0   PassengerId  417 non-null    int64   \n",
            " 1   Pclass       417 non-null    int64   \n",
            " 2   Sex          417 non-null    int64   \n",
            " 3   Embarked     417 non-null    int64   \n",
            " 4   Title        417 non-null    int64   \n",
            " 5   Agebin       417 non-null    category\n",
            " 6   FamilySize   417 non-null    int64   \n",
            " 7   IsAlone      417 non-null    int64   \n",
            " 8   Farebin      417 non-null    category\n",
            "dtypes: category(2), int64(7)\n",
            "memory usage: 27.3 KB\n"
          ]
        }
      ],
      "source": [
        "train.info()\n",
        "print('-----------------------------------------')\n",
        "test.info()"
      ]
    },
    {
      "cell_type": "markdown",
      "metadata": {
        "id": "SSUPLRcsRl7p"
      },
      "source": [
        "# 데이터 학습"
      ]
    },
    {
      "cell_type": "markdown",
      "metadata": {
        "id": "TKu7vrO_QKhk"
      },
      "source": [
        "### 입력데이터, 타겟데이터 생성"
      ]
    },
    {
      "cell_type": "markdown",
      "metadata": {
        "id": "dEPOGssYKKMR"
      },
      "source": [
        "\n",
        "훈련 결과인 Survived는 triain_target에 저장"
      ]
    },
    {
      "cell_type": "code",
      "execution_count": 15,
      "metadata": {
        "id": "-jrHETiAKQ2Q"
      },
      "outputs": [],
      "source": [
        "import numpy as np\n",
        "# 훈련에 필요하지 않은 데이터 삭제\n",
        "train_input = train.drop(['PassengerId', 'Survived'], axis=1).to_numpy()\n",
        "train_target = train['Survived'].to_numpy()\n",
        "\n",
        "test_input = test.drop(['PassengerId'], axis=1).to_numpy()"
      ]
    },
    {
      "cell_type": "markdown",
      "metadata": {
        "id": "hw9DUgLEibOa"
      },
      "source": [
        "## 확률적 경사 하강법(SGD)"
      ]
    },
    {
      "cell_type": "code",
      "execution_count": 16,
      "metadata": {
        "colab": {
          "base_uri": "https://localhost:8080/"
        },
        "id": "u2cWRAt0igY7",
        "outputId": "7508b8bc-0664-4ec4-91b0-0dc2f679e89f"
      },
      "outputs": [
        {
          "output_type": "stream",
          "name": "stdout",
          "text": [
            "0.8058361391694725\n"
          ]
        }
      ],
      "source": [
        "from sklearn.linear_model import SGDClassifier\n",
        "sc = SGDClassifier(loss='log_loss', random_state=202035236) # 이진 분류 문제이므로 로지스틱 회귀 손실 함수 사용\n",
        "sc.fit(train_input, train_target)\n",
        "print(sc.score(train_input, train_target))"
      ]
    },
    {
      "cell_type": "code",
      "execution_count": 17,
      "metadata": {
        "colab": {
          "base_uri": "https://localhost:8080/"
        },
        "id": "ROJC9F2w_6o2",
        "outputId": "addddd1a-4353-41db-d052-96fad1cafda2"
      },
      "outputs": [
        {
          "output_type": "stream",
          "name": "stdout",
          "text": [
            "0.7621555457912246\n"
          ]
        }
      ],
      "source": [
        "# 교차 검증 점수 확인\n",
        "from sklearn.model_selection import cross_validate\n",
        "from sklearn.model_selection import StratifiedKFold\n",
        "\n",
        "scores = cross_validate(sc, train_input, train_target, cv=StratifiedKFold())\n",
        "print(np.mean(scores['test_score']))"
      ]
    },
    {
      "cell_type": "markdown",
      "metadata": {
        "id": "_yIQq9OD2z2y"
      },
      "source": [
        "### 최적화"
      ]
    },
    {
      "cell_type": "markdown",
      "metadata": {
        "id": "c9Cc9aMv525i"
      },
      "source": [
        "확률적 경사 하강법의 하이퍼 파라미터 : max_iter\n",
        "\n",
        "에포크 횟수를 결정\n",
        "\n",
        "에포크 횟수가 너무 적으면 과소적합\n",
        "\n",
        "에포크 횟수가 너무 많으면 과대적합이 발생한다."
      ]
    },
    {
      "cell_type": "code",
      "execution_count": 18,
      "metadata": {
        "colab": {
          "base_uri": "https://localhost:8080/"
        },
        "id": "P06XAjh2Z-jo",
        "outputId": "3f20ddec-ccd0-4b31-d555-76fb4bf2058a"
      },
      "outputs": [
        {
          "output_type": "stream",
          "name": "stdout",
          "text": [
            "{'max_iter': 100}\n"
          ]
        }
      ],
      "source": [
        "from sklearn.model_selection import GridSearchCV\n",
        "params = {'max_iter':range(50,1000,50)}\n",
        "sgd_gs = GridSearchCV(sc, params, n_jobs=-1) # 탐색 대상 모델과 params 변수를 전달하여 그리드 서치 객체 생성\n",
        "sgd_gs.fit(train_input, train_target)\n",
        "# 그리드서치로 찾은 최적의 매개변수\n",
        "print(sgd_gs.best_params_)"
      ]
    },
    {
      "cell_type": "code",
      "execution_count": 19,
      "metadata": {
        "colab": {
          "base_uri": "https://localhost:8080/"
        },
        "id": "kQPEHKMna6Uu",
        "outputId": "c303ae9e-f662-43d7-f4ff-37a0c04ff12a"
      },
      "outputs": [
        {
          "output_type": "stream",
          "name": "stdout",
          "text": [
            "0.7621555457912246\n",
            "0.8058361391694725\n"
          ]
        }
      ],
      "source": [
        "# 교차 검증의 최종 점수\n",
        "print(np.mean(scores['test_score']))\n",
        "# 찾은 최상의 매개변수 조합으로 모델 생성\n",
        "sc = sgd_gs.best_estimator_\n",
        "# 최적화 완료 후 훈련 세트 점수 확인\n",
        "print(sc.score(train_input, train_target))"
      ]
    },
    {
      "cell_type": "markdown",
      "metadata": {
        "id": "J1P_Z1JV-cjZ"
      },
      "source": [
        "## 결정트리"
      ]
    },
    {
      "cell_type": "code",
      "execution_count": 20,
      "metadata": {
        "colab": {
          "base_uri": "https://localhost:8080/"
        },
        "id": "X24JAukj-Xpp",
        "outputId": "49fa3fcf-4089-41f5-80e6-233e685092e4"
      },
      "outputs": [
        {
          "output_type": "stream",
          "name": "stdout",
          "text": [
            "0.8574635241301908\n"
          ]
        }
      ],
      "source": [
        "from sklearn.tree import DecisionTreeClassifier\n",
        "\n",
        "dt = DecisionTreeClassifier(random_state=202035236)\n",
        "dt.fit(train_input, train_target)\n",
        "\n",
        "print(dt.score(train_input, train_target))"
      ]
    },
    {
      "cell_type": "code",
      "source": [
        "# 교차 검증 점수 확인\n",
        "from sklearn.model_selection import StratifiedKFold\n",
        "\n",
        "scores = cross_validate(dt, train_input, train_target, cv=StratifiedKFold())\n",
        "print(np.mean(scores['test_score']))"
      ],
      "metadata": {
        "colab": {
          "base_uri": "https://localhost:8080/"
        },
        "id": "8JyHanmpeTqF",
        "outputId": "a25b557e-479e-4fcc-da53-070cbf14bb2f"
      },
      "execution_count": 21,
      "outputs": [
        {
          "output_type": "stream",
          "name": "stdout",
          "text": [
            "0.797991337643588\n"
          ]
        }
      ]
    },
    {
      "cell_type": "markdown",
      "source": [
        "과대적합임"
      ],
      "metadata": {
        "id": "VBkqjQ90ey3n"
      }
    },
    {
      "cell_type": "markdown",
      "metadata": {
        "id": "gbitOqpG-dEg"
      },
      "source": [
        "### 최적화"
      ]
    },
    {
      "cell_type": "markdown",
      "source": [
        "min_impurity_decrease : 노드의 정보이득이 매개변수보다 작아지면 더이상 분할하지 않음(과대적합 방지)\n",
        "\n",
        "max deapth : 트리의 최대 깊이 지정\n",
        "\n",
        "min_samples_split : 노드를 분할하기 위한 최소 샘플의 수(기본값 2) 작게 설정할 수록 분할 노드가 많아져 과적합 가능성 증가\n",
        "\n",
        "min_smples_leaf : 리프 노드가 되기 위한 최소 샘플의 수"
      ],
      "metadata": {
        "id": "B0QCOG25Y0Yb"
      }
    },
    {
      "cell_type": "code",
      "execution_count": 22,
      "metadata": {
        "colab": {
          "base_uri": "https://localhost:8080/"
        },
        "id": "3sSUg_fC-ecu",
        "outputId": "e6a8b667-2946-4abf-894e-25ab6c1cf0b0"
      },
      "outputs": [
        {
          "output_type": "stream",
          "name": "stdout",
          "text": [
            "{'max_depth': 23, 'min_impurity_decrease': 0.0004483185889588648, 'min_samples_leaf': 12, 'min_samples_split': 15}\n"
          ]
        }
      ],
      "source": [
        "from scipy.stats import uniform, randint\n",
        "\n",
        "params = {'min_impurity_decrease': uniform(0.0001, 0.001),\n",
        "          'max_depth': randint(10, 50),\n",
        "          'min_samples_split': randint(2, 25),\n",
        "          'min_samples_leaf': randint(1, 25),\n",
        "          }\n",
        "from sklearn.model_selection import RandomizedSearchCV\n",
        "dt = DecisionTreeClassifier(random_state=202035236)\n",
        "dt_rs = RandomizedSearchCV(DecisionTreeClassifier(splitter='random', random_state=202035236), params,\n",
        "                        n_iter=100, n_jobs=-1, random_state=202035236)\n",
        "#n_iter 반복횟수 지정 (이 범위 내에서 100번 선택하겠다.)\n",
        "dt_rs.fit(train_input, train_target)\n",
        "print(dt_rs.best_params_)"
      ]
    },
    {
      "cell_type": "code",
      "source": [
        "# 최상의 교차 검증 점수 확인\n",
        "print(np.max(dt_rs.cv_results_['mean_test_score']))\n",
        "# 찾은 파라미터로 모델을 생성하고 훈련 점수 확인\n",
        "dt = dt_rs.best_estimator_\n",
        "print(dt.score(train_input, train_target))"
      ],
      "metadata": {
        "colab": {
          "base_uri": "https://localhost:8080/"
        },
        "id": "vWpBWI94eG3O",
        "outputId": "2e19b9d4-860a-4370-870d-c4c83c92fbc6"
      },
      "execution_count": 23,
      "outputs": [
        {
          "output_type": "stream",
          "name": "stdout",
          "text": [
            "0.8305002824681438\n",
            "0.8338945005611672\n"
          ]
        }
      ]
    },
    {
      "cell_type": "markdown",
      "metadata": {
        "id": "vg6fkwyO-epN"
      },
      "source": [
        "## 랜덤포레스트"
      ]
    },
    {
      "cell_type": "code",
      "execution_count": 24,
      "metadata": {
        "colab": {
          "base_uri": "https://localhost:8080/"
        },
        "id": "bFCespUD-4eT",
        "outputId": "8dd91131-a07b-4dbb-b38e-994c927d4b89"
      },
      "outputs": [
        {
          "output_type": "stream",
          "name": "stdout",
          "text": [
            "0.8641978032368376 0.8036030381018142\n"
          ]
        }
      ],
      "source": [
        "from sklearn.model_selection import cross_validate\n",
        "from sklearn.ensemble import RandomForestClassifier\n",
        "rf = RandomForestClassifier(random_state=202035236)\n",
        "scores = cross_validate(rf, train_input, train_target, return_train_score=True, n_jobs=-1)\n",
        "print(np.mean(scores['train_score']), np.mean(scores['test_score'])) # 훈련 점수, 검증 점수"
      ]
    },
    {
      "cell_type": "markdown",
      "metadata": {
        "id": "PXDN7wHj-gxn"
      },
      "source": [
        "### 최적화"
      ]
    },
    {
      "cell_type": "code",
      "source": [
        "params = {'min_impurity_decrease': uniform(0.0001, 0.001),\n",
        "          'max_depth': randint(10, 50),\n",
        "          'min_samples_split': randint(2, 25),\n",
        "          'min_samples_leaf': randint(1, 25),\n",
        "          }\n",
        "\n",
        "rf = RandomForestClassifier(random_state=202035236)\n",
        "rf_rs = RandomizedSearchCV(RandomForestClassifier(random_state=202035236), params,\n",
        "                        n_iter=100, n_jobs=-1, random_state=202035236)\n",
        "#n_iter 반복횟수 지정 (이 범위 내에서 100번 선택하겠다.)\n",
        "rf_rs.fit(train_input, train_target)\n",
        "print(rf_rs.best_params_)"
      ],
      "metadata": {
        "colab": {
          "base_uri": "https://localhost:8080/"
        },
        "id": "xYQnkn-UhNGf",
        "outputId": "72ac7a64-76a4-461b-bfab-35ee95333c70"
      },
      "execution_count": 25,
      "outputs": [
        {
          "output_type": "stream",
          "name": "stdout",
          "text": [
            "{'max_depth': 16, 'min_impurity_decrease': 0.0008497651568504537, 'min_samples_leaf': 5, 'min_samples_split': 12}\n"
          ]
        }
      ]
    },
    {
      "cell_type": "code",
      "source": [
        "# 최상의 교차 검증 점수 확인\n",
        "print(np.max(rf_rs.cv_results_['mean_test_score']))\n",
        "# 찾은 파라미터로 모델을 생성하고 훈련 점수 확인\n",
        "rf = rf_rs.best_estimator_\n",
        "print(rf.score(train_input, train_target))"
      ],
      "metadata": {
        "colab": {
          "base_uri": "https://localhost:8080/"
        },
        "id": "YmX61IDqkjJh",
        "outputId": "a7bcad7a-b382-4a0b-d93d-52add902c6f4"
      },
      "execution_count": 26,
      "outputs": [
        {
          "output_type": "stream",
          "name": "stdout",
          "text": [
            "0.8237775406440273\n",
            "0.835016835016835\n"
          ]
        }
      ]
    },
    {
      "cell_type": "markdown",
      "metadata": {
        "id": "UQog-x9U-jMD"
      },
      "source": [
        "## 히스토그램기반 그레이디언트 부스팅"
      ]
    },
    {
      "cell_type": "code",
      "execution_count": 27,
      "metadata": {
        "colab": {
          "base_uri": "https://localhost:8080/"
        },
        "id": "M-1W_tdeBZ14",
        "outputId": "4fe02d29-2c0d-400e-8431-9106574b542d"
      },
      "outputs": [
        {
          "output_type": "stream",
          "name": "stdout",
          "text": [
            "0.8552192823486771 0.8092021844203126\n"
          ]
        }
      ],
      "source": [
        "from sklearn.ensemble import HistGradientBoostingClassifier\n",
        "\n",
        "hgb = HistGradientBoostingClassifier(random_state=202035236)\n",
        "scores = cross_validate(hgb, train_input, train_target, return_train_score=True, n_jobs=-1)\n",
        "\n",
        "print(np.mean(scores['train_score']), np.mean(scores['test_score']))  # 훈련 점수, 검증 점수"
      ]
    },
    {
      "cell_type": "markdown",
      "metadata": {
        "id": "nt3VoXKd-n0p"
      },
      "source": [
        "### 최적화"
      ]
    },
    {
      "cell_type": "markdown",
      "source": [
        "learning_rate : 학습을 진행할 때마다 적용하는 학습률(기본값 0.1)\n",
        "\n",
        "max_iter : 부스팅 반복 횟수(n_estimator 대신 사용)"
      ],
      "metadata": {
        "id": "q0WG1PfauNfk"
      }
    },
    {
      "cell_type": "code",
      "source": [
        "params = {'learning_rate': np.arange(0.01, 0.1, 0.01),\n",
        "          'max_iter' : range(100, 500, 50)\n",
        "          }\n",
        "\n",
        "hgb_gs = GridSearchCV(HistGradientBoostingClassifier(random_state=20203536), params, n_jobs=-1)\n",
        "hgb_gs.fit(train_input, train_target)\n",
        "print(hgb_gs.best_params_)"
      ],
      "metadata": {
        "id": "fq30jIKVk3Ta",
        "colab": {
          "base_uri": "https://localhost:8080/"
        },
        "outputId": "bedfb2dd-5f12-4c81-ab4a-55284aab070e"
      },
      "execution_count": 28,
      "outputs": [
        {
          "output_type": "stream",
          "name": "stdout",
          "text": [
            "{'learning_rate': 0.01, 'max_iter': 100}\n"
          ]
        }
      ]
    },
    {
      "cell_type": "code",
      "source": [
        "# 최상의 교차 검증 점수 확인\n",
        "print(np.max(hgb_gs.cv_results_['mean_test_score']))\n",
        "# 찾은 파라미터로 모델을 생성하고 훈련 점수 확인\n",
        "hgb = hgb_gs.best_estimator_\n",
        "print(hgb.score(train_input, train_target))"
      ],
      "metadata": {
        "id": "K-HCUiXosVjH",
        "colab": {
          "base_uri": "https://localhost:8080/"
        },
        "outputId": "409cc404-a29b-4c30-9f8e-078d693b416d"
      },
      "execution_count": 29,
      "outputs": [
        {
          "output_type": "stream",
          "name": "stdout",
          "text": [
            "0.8294017952419811\n",
            "0.8383838383838383\n"
          ]
        }
      ]
    }
  ],
  "metadata": {
    "colab": {
      "provenance": [],
      "mount_file_id": "1Ow67Nnd5M7WlNOcTfcbVw64wmIIDjLXg",
      "authorship_tag": "ABX9TyPrGIg8zbAKTswe5L5hV0uB",
      "include_colab_link": true
    },
    "kernelspec": {
      "display_name": "Python 3",
      "name": "python3"
    },
    "language_info": {
      "name": "python"
    }
  },
  "nbformat": 4,
  "nbformat_minor": 0
}